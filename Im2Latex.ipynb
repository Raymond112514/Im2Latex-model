{
  "cells": [
    {
      "cell_type": "markdown",
      "source": [
        "## Import libraries"
      ],
      "metadata": {
        "id": "A7p5o5gNqAwI"
      },
      "id": "A7p5o5gNqAwI"
    },
    {
      "cell_type": "code",
      "execution_count": 214,
      "id": "18167cff",
      "metadata": {
        "id": "18167cff",
        "colab": {
          "base_uri": "https://localhost:8080/"
        },
        "outputId": "b060b11e-8299-4264-d8bc-5aeea323ad27"
      },
      "outputs": [
        {
          "output_type": "stream",
          "name": "stdout",
          "text": [
            "Drive already mounted at /content/drive; to attempt to forcibly remount, call drive.mount(\"/content/drive\", force_remount=True).\n"
          ]
        }
      ],
      "source": [
        "## Importing nessesary libraries and mounting drive\n",
        "import os\n",
        "import math\n",
        "import torch\n",
        "import pandas as pd\n",
        "from PIL import Image\n",
        "import numpy as np\n",
        "import cv2\n",
        "from functools import partial\n",
        "from collections import Counter\n",
        "from torchvision import transforms\n",
        "import pandas as pd\n",
        "import torch.optim as optim\n",
        "import matplotlib.pyplot as plt\n",
        "from torch.utils.data import DataLoader, Dataset\n",
        "import torch.nn as nn\n",
        "import torch.nn.functional as F\n",
        "import matplotlib.pyplot as plt\n",
        "import logging\n",
        "\n",
        "from google.colab import drive\n",
        "drive.mount('/content/drive')\n",
        "logging.getLogger('matplotlib').setLevel(logging.ERROR)"
      ]
    },
    {
      "cell_type": "code",
      "execution_count": 2,
      "id": "00919d44",
      "metadata": {
        "id": "00919d44",
        "outputId": "a7e8eb53-8af5-4cbc-fa06-030374b11a2b",
        "colab": {
          "base_uri": "https://localhost:8080/"
        }
      },
      "outputs": [
        {
          "output_type": "stream",
          "name": "stdout",
          "text": [
            "Files in data directory:\n",
            "  im2latex_formulas.norm.csv\n",
            "  formula_images\n",
            "  m_train.csv\n",
            "  m_val.csv\n",
            "  m_test.csv\n",
            "  model_weights.pth\n",
            "  10000_model_weights_0129_v2.pth\n",
            "  10000_model_weights_0129_v1.pth\n",
            "  10000_model_weights_0110_v1.pth\n",
            "  10000_model_weights_0129_v3.pth\n"
          ]
        }
      ],
      "source": [
        "# Locate data and image directory\n",
        "data_dir = \"/content/drive/MyDrive/Im2Latex/Dataset\"\n",
        "img_dir = '/content/drive/MyDrive/Im2Latex/Dataset/formula_images/formula_images_processed/formula_images_processed'\n",
        "print(f\"Files in data directory:\")\n",
        "for file in os.listdir(data_dir):\n",
        "  print(f\"  {file}\")"
      ]
    },
    {
      "cell_type": "markdown",
      "source": [
        "## Im2Tex data"
      ],
      "metadata": {
        "id": "KQFr9_OskXH7"
      },
      "id": "KQFr9_OskXH7"
    },
    {
      "cell_type": "markdown",
      "source": [
        "The ```Im2Tex``` data is a pandas table containing two columns. The formula column contains latex formulas, while the image column contains the image name."
      ],
      "metadata": {
        "id": "LcRjay48kjw-"
      },
      "id": "LcRjay48kjw-"
    },
    {
      "cell_type": "code",
      "source": [
        "# Printing raw_data\n",
        "raw_data = pd.read_csv(os.path.join(data_dir, \"m_train.csv\"))\n",
        "raw_data.head()"
      ],
      "metadata": {
        "colab": {
          "base_uri": "https://localhost:8080/",
          "height": 206
        },
        "id": "bIyxi7C5ka6r",
        "outputId": "32be4a0f-82a2-450e-e9db-62f1af35bc98"
      },
      "id": "bIyxi7C5ka6r",
      "execution_count": 3,
      "outputs": [
        {
          "output_type": "execute_result",
          "data": {
            "text/plain": [
              "                                             formula           image\n",
              "0  ( { \\cal L } _ { a } g ) _ { i j } = 0 , \\ \\ \\...  1cbb05a562.png\n",
              "1  \\, ^ { * } d \\, ^ { * } H = \\kappa \\, ^ { * } ...  242a58bc3a.png\n",
              "2  s = { \\frac { S } { V } } = { \\frac { A _ { H ...  73fdf824d0.png\n",
              "3  \\psi ( \\gamma ) = \\operatorname { e x p } { - ...  35a6b52146.png\n",
              "4  K _ { \\mu \\nu } ~ = ~ \\frac { 1 } { 2 } \\dot {...  2ae8eccc13.png"
            ],
            "text/html": [
              "\n",
              "  <div id=\"df-d9a0f285-693c-430b-9116-e8d3c1db4617\" class=\"colab-df-container\">\n",
              "    <div>\n",
              "<style scoped>\n",
              "    .dataframe tbody tr th:only-of-type {\n",
              "        vertical-align: middle;\n",
              "    }\n",
              "\n",
              "    .dataframe tbody tr th {\n",
              "        vertical-align: top;\n",
              "    }\n",
              "\n",
              "    .dataframe thead th {\n",
              "        text-align: right;\n",
              "    }\n",
              "</style>\n",
              "<table border=\"1\" class=\"dataframe\">\n",
              "  <thead>\n",
              "    <tr style=\"text-align: right;\">\n",
              "      <th></th>\n",
              "      <th>formula</th>\n",
              "      <th>image</th>\n",
              "    </tr>\n",
              "  </thead>\n",
              "  <tbody>\n",
              "    <tr>\n",
              "      <th>0</th>\n",
              "      <td>( { \\cal L } _ { a } g ) _ { i j } = 0 , \\ \\ \\...</td>\n",
              "      <td>1cbb05a562.png</td>\n",
              "    </tr>\n",
              "    <tr>\n",
              "      <th>1</th>\n",
              "      <td>\\, ^ { * } d \\, ^ { * } H = \\kappa \\, ^ { * } ...</td>\n",
              "      <td>242a58bc3a.png</td>\n",
              "    </tr>\n",
              "    <tr>\n",
              "      <th>2</th>\n",
              "      <td>s = { \\frac { S } { V } } = { \\frac { A _ { H ...</td>\n",
              "      <td>73fdf824d0.png</td>\n",
              "    </tr>\n",
              "    <tr>\n",
              "      <th>3</th>\n",
              "      <td>\\psi ( \\gamma ) = \\operatorname { e x p } { - ...</td>\n",
              "      <td>35a6b52146.png</td>\n",
              "    </tr>\n",
              "    <tr>\n",
              "      <th>4</th>\n",
              "      <td>K _ { \\mu \\nu } ~ = ~ \\frac { 1 } { 2 } \\dot {...</td>\n",
              "      <td>2ae8eccc13.png</td>\n",
              "    </tr>\n",
              "  </tbody>\n",
              "</table>\n",
              "</div>\n",
              "    <div class=\"colab-df-buttons\">\n",
              "\n",
              "  <div class=\"colab-df-container\">\n",
              "    <button class=\"colab-df-convert\" onclick=\"convertToInteractive('df-d9a0f285-693c-430b-9116-e8d3c1db4617')\"\n",
              "            title=\"Convert this dataframe to an interactive table.\"\n",
              "            style=\"display:none;\">\n",
              "\n",
              "  <svg xmlns=\"http://www.w3.org/2000/svg\" height=\"24px\" viewBox=\"0 -960 960 960\">\n",
              "    <path d=\"M120-120v-720h720v720H120Zm60-500h600v-160H180v160Zm220 220h160v-160H400v160Zm0 220h160v-160H400v160ZM180-400h160v-160H180v160Zm440 0h160v-160H620v160ZM180-180h160v-160H180v160Zm440 0h160v-160H620v160Z\"/>\n",
              "  </svg>\n",
              "    </button>\n",
              "\n",
              "  <style>\n",
              "    .colab-df-container {\n",
              "      display:flex;\n",
              "      gap: 12px;\n",
              "    }\n",
              "\n",
              "    .colab-df-convert {\n",
              "      background-color: #E8F0FE;\n",
              "      border: none;\n",
              "      border-radius: 50%;\n",
              "      cursor: pointer;\n",
              "      display: none;\n",
              "      fill: #1967D2;\n",
              "      height: 32px;\n",
              "      padding: 0 0 0 0;\n",
              "      width: 32px;\n",
              "    }\n",
              "\n",
              "    .colab-df-convert:hover {\n",
              "      background-color: #E2EBFA;\n",
              "      box-shadow: 0px 1px 2px rgba(60, 64, 67, 0.3), 0px 1px 3px 1px rgba(60, 64, 67, 0.15);\n",
              "      fill: #174EA6;\n",
              "    }\n",
              "\n",
              "    .colab-df-buttons div {\n",
              "      margin-bottom: 4px;\n",
              "    }\n",
              "\n",
              "    [theme=dark] .colab-df-convert {\n",
              "      background-color: #3B4455;\n",
              "      fill: #D2E3FC;\n",
              "    }\n",
              "\n",
              "    [theme=dark] .colab-df-convert:hover {\n",
              "      background-color: #434B5C;\n",
              "      box-shadow: 0px 1px 3px 1px rgba(0, 0, 0, 0.15);\n",
              "      filter: drop-shadow(0px 1px 2px rgba(0, 0, 0, 0.3));\n",
              "      fill: #FFFFFF;\n",
              "    }\n",
              "  </style>\n",
              "\n",
              "    <script>\n",
              "      const buttonEl =\n",
              "        document.querySelector('#df-d9a0f285-693c-430b-9116-e8d3c1db4617 button.colab-df-convert');\n",
              "      buttonEl.style.display =\n",
              "        google.colab.kernel.accessAllowed ? 'block' : 'none';\n",
              "\n",
              "      async function convertToInteractive(key) {\n",
              "        const element = document.querySelector('#df-d9a0f285-693c-430b-9116-e8d3c1db4617');\n",
              "        const dataTable =\n",
              "          await google.colab.kernel.invokeFunction('convertToInteractive',\n",
              "                                                    [key], {});\n",
              "        if (!dataTable) return;\n",
              "\n",
              "        const docLinkHtml = 'Like what you see? Visit the ' +\n",
              "          '<a target=\"_blank\" href=https://colab.research.google.com/notebooks/data_table.ipynb>data table notebook</a>'\n",
              "          + ' to learn more about interactive tables.';\n",
              "        element.innerHTML = '';\n",
              "        dataTable['output_type'] = 'display_data';\n",
              "        await google.colab.output.renderOutput(dataTable, element);\n",
              "        const docLink = document.createElement('div');\n",
              "        docLink.innerHTML = docLinkHtml;\n",
              "        element.appendChild(docLink);\n",
              "      }\n",
              "    </script>\n",
              "  </div>\n",
              "\n",
              "\n",
              "<div id=\"df-0fa094ae-a46f-4258-ad44-d3b6e06fdc42\">\n",
              "  <button class=\"colab-df-quickchart\" onclick=\"quickchart('df-0fa094ae-a46f-4258-ad44-d3b6e06fdc42')\"\n",
              "            title=\"Suggest charts\"\n",
              "            style=\"display:none;\">\n",
              "\n",
              "<svg xmlns=\"http://www.w3.org/2000/svg\" height=\"24px\"viewBox=\"0 0 24 24\"\n",
              "     width=\"24px\">\n",
              "    <g>\n",
              "        <path d=\"M19 3H5c-1.1 0-2 .9-2 2v14c0 1.1.9 2 2 2h14c1.1 0 2-.9 2-2V5c0-1.1-.9-2-2-2zM9 17H7v-7h2v7zm4 0h-2V7h2v10zm4 0h-2v-4h2v4z\"/>\n",
              "    </g>\n",
              "</svg>\n",
              "  </button>\n",
              "\n",
              "<style>\n",
              "  .colab-df-quickchart {\n",
              "      --bg-color: #E8F0FE;\n",
              "      --fill-color: #1967D2;\n",
              "      --hover-bg-color: #E2EBFA;\n",
              "      --hover-fill-color: #174EA6;\n",
              "      --disabled-fill-color: #AAA;\n",
              "      --disabled-bg-color: #DDD;\n",
              "  }\n",
              "\n",
              "  [theme=dark] .colab-df-quickchart {\n",
              "      --bg-color: #3B4455;\n",
              "      --fill-color: #D2E3FC;\n",
              "      --hover-bg-color: #434B5C;\n",
              "      --hover-fill-color: #FFFFFF;\n",
              "      --disabled-bg-color: #3B4455;\n",
              "      --disabled-fill-color: #666;\n",
              "  }\n",
              "\n",
              "  .colab-df-quickchart {\n",
              "    background-color: var(--bg-color);\n",
              "    border: none;\n",
              "    border-radius: 50%;\n",
              "    cursor: pointer;\n",
              "    display: none;\n",
              "    fill: var(--fill-color);\n",
              "    height: 32px;\n",
              "    padding: 0;\n",
              "    width: 32px;\n",
              "  }\n",
              "\n",
              "  .colab-df-quickchart:hover {\n",
              "    background-color: var(--hover-bg-color);\n",
              "    box-shadow: 0 1px 2px rgba(60, 64, 67, 0.3), 0 1px 3px 1px rgba(60, 64, 67, 0.15);\n",
              "    fill: var(--button-hover-fill-color);\n",
              "  }\n",
              "\n",
              "  .colab-df-quickchart-complete:disabled,\n",
              "  .colab-df-quickchart-complete:disabled:hover {\n",
              "    background-color: var(--disabled-bg-color);\n",
              "    fill: var(--disabled-fill-color);\n",
              "    box-shadow: none;\n",
              "  }\n",
              "\n",
              "  .colab-df-spinner {\n",
              "    border: 2px solid var(--fill-color);\n",
              "    border-color: transparent;\n",
              "    border-bottom-color: var(--fill-color);\n",
              "    animation:\n",
              "      spin 1s steps(1) infinite;\n",
              "  }\n",
              "\n",
              "  @keyframes spin {\n",
              "    0% {\n",
              "      border-color: transparent;\n",
              "      border-bottom-color: var(--fill-color);\n",
              "      border-left-color: var(--fill-color);\n",
              "    }\n",
              "    20% {\n",
              "      border-color: transparent;\n",
              "      border-left-color: var(--fill-color);\n",
              "      border-top-color: var(--fill-color);\n",
              "    }\n",
              "    30% {\n",
              "      border-color: transparent;\n",
              "      border-left-color: var(--fill-color);\n",
              "      border-top-color: var(--fill-color);\n",
              "      border-right-color: var(--fill-color);\n",
              "    }\n",
              "    40% {\n",
              "      border-color: transparent;\n",
              "      border-right-color: var(--fill-color);\n",
              "      border-top-color: var(--fill-color);\n",
              "    }\n",
              "    60% {\n",
              "      border-color: transparent;\n",
              "      border-right-color: var(--fill-color);\n",
              "    }\n",
              "    80% {\n",
              "      border-color: transparent;\n",
              "      border-right-color: var(--fill-color);\n",
              "      border-bottom-color: var(--fill-color);\n",
              "    }\n",
              "    90% {\n",
              "      border-color: transparent;\n",
              "      border-bottom-color: var(--fill-color);\n",
              "    }\n",
              "  }\n",
              "</style>\n",
              "\n",
              "  <script>\n",
              "    async function quickchart(key) {\n",
              "      const quickchartButtonEl =\n",
              "        document.querySelector('#' + key + ' button');\n",
              "      quickchartButtonEl.disabled = true;  // To prevent multiple clicks.\n",
              "      quickchartButtonEl.classList.add('colab-df-spinner');\n",
              "      try {\n",
              "        const charts = await google.colab.kernel.invokeFunction(\n",
              "            'suggestCharts', [key], {});\n",
              "      } catch (error) {\n",
              "        console.error('Error during call to suggestCharts:', error);\n",
              "      }\n",
              "      quickchartButtonEl.classList.remove('colab-df-spinner');\n",
              "      quickchartButtonEl.classList.add('colab-df-quickchart-complete');\n",
              "    }\n",
              "    (() => {\n",
              "      let quickchartButtonEl =\n",
              "        document.querySelector('#df-0fa094ae-a46f-4258-ad44-d3b6e06fdc42 button');\n",
              "      quickchartButtonEl.style.display =\n",
              "        google.colab.kernel.accessAllowed ? 'block' : 'none';\n",
              "    })();\n",
              "  </script>\n",
              "</div>\n",
              "\n",
              "    </div>\n",
              "  </div>\n"
            ]
          },
          "metadata": {},
          "execution_count": 3
        }
      ]
    },
    {
      "cell_type": "code",
      "source": [
        "# Sample image\n",
        "img_name = raw_data.iloc[0][\"image\"]\n",
        "img = Image.open(os.path.join(img_dir, img_name))\n",
        "img"
      ],
      "metadata": {
        "colab": {
          "base_uri": "https://localhost:8080/",
          "height": 49
        },
        "id": "XKXhPJyekzZQ",
        "outputId": "47709e4f-b9cd-4138-b802-4aa3fea1b1de"
      },
      "id": "XKXhPJyekzZQ",
      "execution_count": 5,
      "outputs": [
        {
          "output_type": "execute_result",
          "data": {
            "text/plain": [
              "<PIL.PngImagePlugin.PngImageFile image mode=RGB size=224x32>"
            ],
            "image/png": "[encoded data removed]"
          },
          "metadata": {},
          "execution_count": 5
        }
      ]
    },
    {
      "cell_type": "code",
      "source": [
        "print(f\"The size of image: {img.size}\")"
      ],
      "metadata": {
        "colab": {
          "base_uri": "https://localhost:8080/"
        },
        "id": "EIQASLntgSf-",
        "outputId": "b7de7059-e8bc-4a28-a668-a03630b37d3a"
      },
      "id": "EIQASLntgSf-",
      "execution_count": 81,
      "outputs": [
        {
          "output_type": "stream",
          "name": "stdout",
          "text": [
            "The size of image: (224, 32)\n"
          ]
        }
      ]
    },
    {
      "cell_type": "markdown",
      "id": "979bf742",
      "metadata": {
        "id": "979bf742"
      },
      "source": [
        "## Vocab class"
      ]
    },
    {
      "cell_type": "markdown",
      "source": [
        "The vocab class is responsible for two task: <br>\n",
        "> 1. Storing a dictionary that converts tokens to numbers and vice versa (store in ```stoi``` and ```itos```)\n",
        "> 2. Converting a text sentence to a numbered sentence (using ```formula_to_sign``` and ```sign_to_formula``` method) <br>\n",
        "\n",
        "The ```build_vocab``` method is used to build the dictionary."
      ],
      "metadata": {
        "id": "CbIrhI34icNC"
      },
      "id": "CbIrhI34icNC"
    },
    {
      "cell_type": "code",
      "source": [
        "# Set training samples to 10000\n",
        "train_samples = 10000"
      ],
      "metadata": {
        "id": "Ps6v56OwiaZb"
      },
      "id": "Ps6v56OwiaZb",
      "execution_count": 6,
      "outputs": []
    },
    {
      "cell_type": "code",
      "execution_count": 7,
      "id": "c620ac39",
      "metadata": {
        "id": "c620ac39"
      },
      "outputs": [],
      "source": [
        "# Special tokens\n",
        "START_TOKEN = 0\n",
        "PAD_TOKEN = 1\n",
        "END_TOKEN = 2\n",
        "UNK_TOKEN = 3"
      ]
    },
    {
      "cell_type": "code",
      "execution_count": 8,
      "id": "baf700c4",
      "metadata": {
        "id": "baf700c4",
        "colab": {
          "base_uri": "https://localhost:8080/"
        },
        "outputId": "42eda230-d1d1-491d-aaf9-723c6c774ade"
      },
      "outputs": [
        {
          "output_type": "stream",
          "name": "stdout",
          "text": [
            "Length of formula list: 10000\n"
          ]
        }
      ],
      "source": [
        "# Extracting the list of formulas\n",
        "formula_list = pd.read_csv(os.path.join(data_dir, \"m_train.csv\"))[\"formula\"].tolist()[:train_samples]\n",
        "print(f\"Length of formula list: {len(formula_list)}\")"
      ]
    },
    {
      "cell_type": "code",
      "execution_count": 9,
      "id": "2b7c28ea",
      "metadata": {
        "id": "2b7c28ea"
      },
      "outputs": [],
      "source": [
        "# Vocab class\n",
        "#     add_sign: adds a new token to the dictionary\n",
        "#     build_vocab: builds the dictionary\n",
        "#     formula_to_sign: converts a text formula to numbered formula\n",
        "#     sign_to_formula: converts a numbered formula to text formula\n",
        "\n",
        "class Vocab:\n",
        "    def __init__(self, formulas, freq=2):\n",
        "        self.formulas = formulas\n",
        "        self.stoi = {\"<sos>\": START_TOKEN, \"<eos>\": END_TOKEN,\n",
        "                     \"<pad>\": PAD_TOKEN, \"<unk>\": UNK_TOKEN}\n",
        "        self.itos = dict((idx, token) for token, idx in self.stoi.items())\n",
        "        self.length = 4\n",
        "        self.counter = Counter()\n",
        "        self.freq = freq\n",
        "        self.build_vocab()\n",
        "\n",
        "    def add_sign(self, sign):\n",
        "        self.stoi[sign] = self.length\n",
        "        self.itos[self.length] = sign\n",
        "        self.length += 1\n",
        "\n",
        "    def build_vocab(self):\n",
        "        for formula in self.formulas:\n",
        "            for token in formula.split():\n",
        "                self.counter.update([token])\n",
        "\n",
        "        for token, count in self.counter.items():\n",
        "            if count >= self.freq:\n",
        "                self.add_sign(token)\n",
        "\n",
        "    def formula_to_sign(self, formula):\n",
        "        signed = []\n",
        "        for token in formula.split():\n",
        "            if token in self.stoi:\n",
        "                signed.append(self.stoi[token])\n",
        "            else:\n",
        "                signed.append(UNK_TOKEN)\n",
        "        return torch.tensor(signed)\n",
        "\n",
        "    def sign_to_formula(self, signed):\n",
        "        formula = []\n",
        "        for sign in signed:\n",
        "            if sign.item() in self.itos:\n",
        "                formula.append(self.itos[sign.item()])\n",
        "        return formula"
      ]
    },
    {
      "cell_type": "code",
      "execution_count": 10,
      "id": "85246488",
      "metadata": {
        "id": "85246488",
        "colab": {
          "base_uri": "https://localhost:8080/"
        },
        "outputId": "3c27f722-10fd-4510-8624-fcdd24594b5a"
      },
      "outputs": [
        {
          "output_type": "stream",
          "name": "stdout",
          "text": [
            "Length of dictionary: 378\n"
          ]
        }
      ],
      "source": [
        "vocab = Vocab(formula_list)\n",
        "print(f\"Length of dictionary: {vocab.length}\")"
      ]
    },
    {
      "cell_type": "markdown",
      "id": "194e6ce1",
      "metadata": {
        "id": "194e6ce1"
      },
      "source": [
        "## Dataset class"
      ]
    },
    {
      "cell_type": "markdown",
      "source": [
        "The ```Im2TexDataset``` class inherits from the ```Dataset``` class and contains two methods: ```__len__``` and ```__getitem__```. <br>\n",
        "<br>\n",
        "The ```Im2TexDataset``` class also preprocesses the images by scaling them to the same size (```[64, 256]```)"
      ],
      "metadata": {
        "id": "5VDOkjI6mSol"
      },
      "id": "5VDOkjI6mSol"
    },
    {
      "cell_type": "code",
      "execution_count": 11,
      "id": "16a02632",
      "metadata": {
        "id": "16a02632"
      },
      "outputs": [],
      "source": [
        "# Im2TexDataset\n",
        "#     __len__: returns the length of the dataset\n",
        "#     __getitem__: returns the idx element in the dataset\n",
        "\n",
        "class Im2TexDataset(Dataset):\n",
        "    def __init__(self, img_dir, formula_dir, vocab, n_samples=train_samples):\n",
        "        self.img_dir = img_dir\n",
        "        self.data = pd.read_csv(formula_dir, nrows=n_samples)\n",
        "        self.transform = transforms.Compose([\n",
        "                             transforms.Resize((64, 256)),\n",
        "                             transforms.ToTensor(),\n",
        "                         ])\n",
        "        self.vocab = vocab\n",
        "\n",
        "    def __len__(self):\n",
        "        return len(self.data)\n",
        "\n",
        "    def __getitem__(self, idx):\n",
        "        img_name, formula = self.data.iloc[idx][1], self.data.iloc[idx][0]\n",
        "        img = Image.open(os.path.join(self.img_dir, img_name))\n",
        "        img = self.transform(img)\n",
        "        formula = self.vocab.formula_to_sign(formula)\n",
        "        return img, formula"
      ]
    },
    {
      "cell_type": "markdown",
      "id": "94d93760",
      "metadata": {
        "id": "94d93760"
      },
      "source": [
        "## Methods for dataloader"
      ]
    },
    {
      "cell_type": "markdown",
      "source": [
        "The `collate_fn` method is an argument for the `DataLoader` class. It takes in an (image, formula) batch and returns (image, input_formula, output_formula). <br>\n",
        "<br>\n",
        "The image is not preprocessed. The input and output formula is generated as follows: suppose the formula is `[23, 43, 20, 11, 14]`. Then\n",
        "> 1. Input formula: `[0, 23, 43, 20, 11, 14]` (the start token is appended front) <br>\n",
        "> 2. Output formula: `[23, 43, 20, 11, 14, 2]` (the end token is appended at the end) <br>\n",
        "\n",
        "These formulas are then padded to a particular length"
      ],
      "metadata": {
        "id": "mG-uGF26mrs5"
      },
      "id": "mG-uGF26mrs5"
    },
    {
      "cell_type": "code",
      "execution_count": 12,
      "id": "05239054",
      "metadata": {
        "id": "05239054"
      },
      "outputs": [],
      "source": [
        "def collate_fn(batch):\n",
        "    img = torch.stack([elem[0] for elem in batch])\n",
        "    formulas = [elem[1] for elem in batch]\n",
        "    max_len = len(max(formulas, key=lambda x: len(x))) + 1\n",
        "    in_for = [torch.cat((torch.tensor([START_TOKEN]), formula))for formula in formulas]\n",
        "    out_for = [torch.cat((formula, torch.tensor([END_TOKEN])))for formula in formulas]\n",
        "    in_for = pad(in_for, max_len)\n",
        "    out_for = pad(out_for, max_len)\n",
        "    return img, in_for, out_for\n",
        "\n",
        "def pad(formulas, size):\n",
        "    padded = []\n",
        "    for formula in formulas:\n",
        "        while len(formula) < size:\n",
        "            formula = torch.cat((formula, torch.tensor([PAD_TOKEN])))\n",
        "        padded.append(formula)\n",
        "    return torch.stack(padded)"
      ]
    },
    {
      "cell_type": "markdown",
      "id": "c6a7f30f",
      "metadata": {
        "id": "c6a7f30f"
      },
      "source": [
        "## Encoder module"
      ]
    },
    {
      "cell_type": "markdown",
      "source": [
        "The ```Encoder``` module firsts passes the images (shape: `[B, H, W, C]`) through a sequence of convolution layers with max pooling. The output is then flattened (shape: `[B, H*W, C]`) and positional encoding is added <br>\n",
        "<br>\n",
        "The code for positional encoding is retrieved online.<br>\n",
        "<br>\n",
        "![Encoder.jpg](data:image/jpeg;base64,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)"
      ],
      "metadata": {
        "id": "3ZsTePqro0m8"
      },
      "id": "3ZsTePqro0m8"
    },
    {
      "cell_type": "code",
      "execution_count": 13,
      "id": "848c147b",
      "metadata": {
        "id": "848c147b"
      },
      "outputs": [],
      "source": [
        "# Code for positional encoding is taken from: https://medium.com/@hunter-j-phillips/positional-encoding-7a93db4109e6\n",
        "\n",
        "def add_positional_features(tensor: torch.Tensor,\n",
        "                            min_timescale: float = 1.0,\n",
        "                            max_timescale: float = 1.0e4):\n",
        "    _, timesteps, hidden_dim = tensor.size()\n",
        "\n",
        "    timestep_range = get_range_vector(timesteps, tensor.device).data.float()\n",
        "    num_timescales = hidden_dim // 2\n",
        "    timescale_range = get_range_vector(\n",
        "        num_timescales, tensor.device).data.float()\n",
        "\n",
        "    log_timescale_increments = math.log(\n",
        "        float(max_timescale) / float(min_timescale)) / float(num_timescales - 1)\n",
        "    inverse_timescales = min_timescale * \\\n",
        "        torch.exp(timescale_range * -log_timescale_increments)\n",
        "    scaled_time = timestep_range.unsqueeze(1) * inverse_timescales.unsqueeze(0)\n",
        "    sinusoids = torch.randn(\n",
        "        scaled_time.size(0), 2*scaled_time.size(1), device=tensor.device)\n",
        "    sinusoids[:, ::2] = torch.sin(scaled_time)\n",
        "    sinusoids[:, 1::2] = torch.sin(scaled_time)\n",
        "    if hidden_dim % 2 != 0:\n",
        "        sinusoids = torch.cat(\n",
        "            [sinusoids, sinusoids.new_zeros(timesteps, 1)], 1)\n",
        "    return tensor + sinusoids.unsqueeze(0)\n",
        "\n",
        "def get_range_vector(size: int, device) -> torch.Tensor:\n",
        "    return torch.arange(0, size, dtype=torch.long, device=device)"
      ]
    },
    {
      "cell_type": "code",
      "execution_count": 120,
      "id": "20d7cccf",
      "metadata": {
        "id": "20d7cccf"
      },
      "outputs": [],
      "source": [
        "class Encoder(nn.Module):\n",
        "\n",
        "    def __init__(self, enc_out_dim=512):\n",
        "        super(Encoder, self).__init__()\n",
        "        self.encoder = nn.Sequential(\n",
        "            nn.Conv2d(3, 64, 3, 1, 1),\n",
        "            nn.ReLU(),\n",
        "            nn.MaxPool2d(2, 2, 1),\n",
        "\n",
        "            nn.Conv2d(64, 128, 3, 1, 1),\n",
        "            nn.ReLU(),\n",
        "            nn.MaxPool2d(2, 2, 1),\n",
        "\n",
        "            nn.Conv2d(128, 256, 3, 1, 1),\n",
        "            nn.ReLU(),\n",
        "            nn.Conv2d(256, 256, 3, 1, 1),\n",
        "            nn.ReLU(),\n",
        "            nn.MaxPool2d((2, 1), (2, 1), 0),\n",
        "\n",
        "            nn.Conv2d(256, enc_out_dim, 3, 1, 0),\n",
        "            nn.ReLU()\n",
        "        )\n",
        "\n",
        "    def forward(self, img):\n",
        "        out = self.encoder(img)\n",
        "        out = out.permute(0, 2, 3, 1)\n",
        "        B, H, W, _ = out.shape\n",
        "        out = out.contiguous().view(B, H*W, -1)\n",
        "        out = add_positional_features(out)\n",
        "        return out"
      ]
    },
    {
      "cell_type": "markdown",
      "id": "6993a0de",
      "metadata": {
        "id": "6993a0de"
      },
      "source": [
        "## Decoder module"
      ]
    },
    {
      "cell_type": "code",
      "execution_count": 92,
      "id": "2ed3578f",
      "metadata": {
        "id": "2ed3578f"
      },
      "outputs": [],
      "source": [
        "class Decoder(nn.Module):\n",
        "    # Input size of LSTM: hidden_size + encoded_size (cat embedding (hidden size) and context vector)\n",
        "    # Output size of LSTM: encoded_size\n",
        "    # out_size = number of vocabs\n",
        "\n",
        "    def __init__(self, encoded_size, hidden_size, out_size, emb_size, dropout=0.2):\n",
        "        super(Decoder, self).__init__()\n",
        "        self.init_Wh = nn.Linear(encoded_size, hidden_size, bias=False)\n",
        "        self.init_Wo = nn.Linear(encoded_size, hidden_size, bias=False)\n",
        "        self.init_Wc = nn.Linear(encoded_size, hidden_size, bias=False)\n",
        "\n",
        "        self.beta = nn.Parameter(torch.Tensor(encoded_size))\n",
        "        nn.init.normal_(self.beta, mean=0, std=0.01)\n",
        "\n",
        "        self.W1 = nn.Linear(encoded_size, encoded_size, bias=False)\n",
        "        self.W2 = nn.Linear(hidden_size, encoded_size, bias=False)\n",
        "\n",
        "        self.rnn = nn.LSTMCell(hidden_size + emb_size, hidden_size)\n",
        "\n",
        "        self.W3 = nn.Linear(hidden_size + encoded_size, hidden_size, bias=False)\n",
        "        self.W_out = nn.Linear(hidden_size, out_size, bias=False)\n",
        "        self.embedding = nn.Embedding(num_embeddings=out_size, embedding_dim=emb_size, padding_idx=PAD_TOKEN)\n",
        "        self.dropout = nn.Dropout(p=dropout)\n",
        "        self.attention_cache = []\n",
        "\n",
        "        self.c = None\n",
        "\n",
        "    def forward(self, encoded_imgs, formulas, store_attention=False):\n",
        "        dec_state, o_t = self.get_init_state(encoded_imgs)\n",
        "        max_len = formulas.shape[1]\n",
        "        logits = []\n",
        "        for t in range(max_len):\n",
        "            text = formulas[:, t:t+1]\n",
        "            dec_states, o_t, logit = self.one_step_decode(\n",
        "                text, encoded_imgs, dec_state, o_t, store_attention)\n",
        "            logits.append(logit)\n",
        "        logits = torch.stack(logits, dim=1)  # [B, MAX_LEN, out_size]\n",
        "        return logits\n",
        "\n",
        "    def one_step_decode(self, text, enc_out, dec_state, o_t, store_attention=False):\n",
        "        embed = self.embedding(text).squeeze(dim=1) # [B, 1, O] -> [B, O]\n",
        "        inp = torch.cat([embed, o_t], dim=1)\n",
        "        h_t, c_t = self.rnn(inp, dec_state)\n",
        "        h_t = self.dropout(h_t)\n",
        "        c_t = self.dropout(c_t)\n",
        "\n",
        "        # context_t : [B, C]\n",
        "        context_t, attn_scores = self.get_attention_weights(enc_out, h_t)\n",
        "\n",
        "        if store_attention:\n",
        "           self.attention_cache.append(attn_scores)\n",
        "\n",
        "        # [B, dec_rnn_h]\n",
        "        o_t = self.W3(torch.cat([h_t, context_t], dim=1)).tanh()\n",
        "        o_t = self.dropout(o_t)\n",
        "        logit = F.softmax(self.W_out(o_t), dim=1)  # [B, out_size]\n",
        "\n",
        "        return (h_t, c_t), o_t, logit\n",
        "\n",
        "    def get_attention_weights(self, enc_out, h_t):\n",
        "        # enc_out: [B, L=H*W, C]\n",
        "        # h_t: [B, H]\n",
        "        #                     [B, L, C]     [B, C] -> [B, 1, C]\n",
        "        alpha = torch.tanh(self.W1(enc_out) + self.W2(h_t).unsqueeze(1)) # [B, L, C]\n",
        "        alpha = torch.sum(self.beta * alpha, dim=-1) #[B, L]\n",
        "        alpha = F.softmax(alpha, dim=-1) # [B, L]\n",
        "\n",
        "        #                    [B, 1, L]     [B, L, C]\n",
        "        context = torch.bmm(alpha.unsqueeze(1), enc_out) #[B, 1, C]\n",
        "        context = context.squeeze(1) #[B, C]\n",
        "        return context, alpha\n",
        "\n",
        "    def get_init_state(self, enc_out):\n",
        "        h = self.get_init_h(enc_out)\n",
        "        o = self.get_init_o(enc_out)\n",
        "        c = self.get_init_c(enc_out)\n",
        "        return (h, c), o\n",
        "\n",
        "    # [B, H]\n",
        "    def get_init_h(self, enc_out):\n",
        "        mean = enc_out.mean(dim=1)\n",
        "        out = torch.tanh(self.init_Wh(mean))\n",
        "        return out\n",
        "\n",
        "    # [B, H]\n",
        "    def get_init_o(self, enc_out):\n",
        "        mean = enc_out.mean(dim=1)\n",
        "        out = torch.tanh(self.init_Wo(mean))\n",
        "        return out\n",
        "\n",
        "    # [B, H]\n",
        "    def get_init_c(self, enc_out):\n",
        "        mean = enc_out.mean(dim=1)\n",
        "        out = torch.tanh(self.init_Wc(mean))\n",
        "        return out\n",
        "\n",
        "    def empty_attention_cache(self):\n",
        "        self.attention_cache = []"
      ]
    },
    {
      "cell_type": "markdown",
      "id": "19a2917c",
      "metadata": {
        "id": "19a2917c"
      },
      "source": [
        "## Im2Latex Model"
      ]
    },
    {
      "cell_type": "markdown",
      "source": [
        "The Im2Latex Model combines the encoder and decoder"
      ],
      "metadata": {
        "id": "L6BWURZ1ApoE"
      },
      "id": "L6BWURZ1ApoE"
    },
    {
      "cell_type": "code",
      "execution_count": 93,
      "id": "180cc597",
      "metadata": {
        "id": "180cc597"
      },
      "outputs": [],
      "source": [
        "class Im2Latex(nn.Module):\n",
        "\n",
        "    def __init__(self, encoded_size, hidden_size, out_size, emb_size, dropout=0.1):\n",
        "        super(Im2Latex, self).__init__()\n",
        "        self.encoder = Encoder(encoded_size)\n",
        "        self.decoder = Decoder(encoded_size, hidden_size, out_size, emb_size)\n",
        "\n",
        "    def forward(self, imgs, formulas, store_attention=False):\n",
        "        encoded_imgs = self.encoder(imgs)\n",
        "        logits = self.decoder(encoded_imgs, formulas, store_attention=True)\n",
        "        return logits"
      ]
    },
    {
      "cell_type": "markdown",
      "id": "2cbbf4c6",
      "metadata": {
        "id": "2cbbf4c6"
      },
      "source": [
        "## Training Loop"
      ]
    },
    {
      "cell_type": "markdown",
      "source": [
        "In the training loop, the loss function is implemented that masked padding token."
      ],
      "metadata": {
        "id": "1H1NXk3BAv4T"
      },
      "id": "1H1NXk3BAv4T"
    },
    {
      "cell_type": "code",
      "execution_count": 17,
      "id": "bbbe2a24",
      "metadata": {
        "id": "bbbe2a24"
      },
      "outputs": [],
      "source": [
        "def cal_loss(logits, targets):\n",
        "    padding = torch.ones_like(targets) * PAD_TOKEN\n",
        "    mask = (targets != padding)\n",
        "\n",
        "    targets = targets.masked_select(mask)\n",
        "    logits = logits.masked_select(\n",
        "        mask.unsqueeze(2).expand(-1, -1, logits.size(2))\n",
        "    ).contiguous().view(-1, logits.size(2))\n",
        "    logits = torch.log(logits)\n",
        "\n",
        "    assert logits.size(0) == targets.size(0)\n",
        "\n",
        "    loss = F.nll_loss(logits, targets)\n",
        "    return loss"
      ]
    },
    {
      "cell_type": "code",
      "execution_count": 18,
      "id": "6a83bba7",
      "metadata": {
        "id": "6a83bba7"
      },
      "outputs": [],
      "source": [
        "## Implementation of the training loop\n",
        "def train(model, train_loader, optimizer, num_epochs, val_loader=None):\n",
        "    for epoch in range(num_epochs):\n",
        "        total_loss = 0\n",
        "        n = 0\n",
        "        if val_loader is not None:\n",
        "            val_iter = iter(val_loader)\n",
        "        for imgs, in_for, out_for in train_loader:\n",
        "            imgs, in_for, out_for = imgs.to(device), in_for.to(device), out_for.to(device)\n",
        "            optimizer.zero_grad()\n",
        "            logits = model.forward(imgs, in_for)\n",
        "            loss = cal_loss(logits, out_for)\n",
        "            loss.backward(retain_graph=True)\n",
        "            optimizer.step()\n",
        "            total_loss += loss.item()\n",
        "            if n % 10 == 0:\n",
        "                print(f\"Loss: {loss.item()}\")\n",
        "            if n % 50 == 0:\n",
        "                print(f\"Logit contains nan: {torch.isnan(logits).any().item()}\")\n",
        "                if val_loader is not None:\n",
        "                    imgs, in_for, out_for = next(val_iter)\n",
        "                    imgs, in_for, out_for = imgs.to(device), in_for.to(device), out_for.to(device)\n",
        "                    logits = model(imgs, in_for)\n",
        "                    print(f\"Validation loss: {cal_loss(logits, out_for)}\")\n",
        "            n += 1\n",
        "        print(f\"Epoch {epoch} with loss: {total_loss / n} ----------------------------------------\")"
      ]
    },
    {
      "cell_type": "markdown",
      "source": [
        "## Training loop"
      ],
      "metadata": {
        "id": "AcQHKBwELsDQ"
      },
      "id": "AcQHKBwELsDQ"
    },
    {
      "cell_type": "code",
      "source": [
        "device = torch.device('cuda' if torch.cuda.is_available() else 'cpu')\n",
        "print(f\"Using device: {device}\")"
      ],
      "metadata": {
        "colab": {
          "base_uri": "https://localhost:8080/"
        },
        "id": "5YQ-5tCylX88",
        "outputId": "3f32642b-d20d-4ce4-9742-79fcad546abe"
      },
      "id": "5YQ-5tCylX88",
      "execution_count": 19,
      "outputs": [
        {
          "output_type": "stream",
          "name": "stdout",
          "text": [
            "Using device: cuda\n"
          ]
        }
      ]
    },
    {
      "cell_type": "code",
      "execution_count": 20,
      "id": "0d2009dd",
      "metadata": {
        "id": "0d2009dd"
      },
      "outputs": [],
      "source": [
        "train_dir = os.path.join(data_dir, \"m_train.csv\")\n",
        "val_dir = os.path.join(data_dir, \"m_val.csv\")"
      ]
    },
    {
      "cell_type": "code",
      "execution_count": 21,
      "id": "943dab2b",
      "metadata": {
        "id": "943dab2b"
      },
      "outputs": [],
      "source": [
        "train_data = Im2TexDataset(img_dir, train_dir, vocab)\n",
        "val_data = Im2TexDataset(img_dir, val_dir, vocab)"
      ]
    },
    {
      "cell_type": "code",
      "execution_count": 22,
      "id": "be3cbb44",
      "metadata": {
        "id": "be3cbb44"
      },
      "outputs": [],
      "source": [
        "train_loader = DataLoader(train_data,\n",
        "                          batch_size=32,\n",
        "                          collate_fn=collate_fn)\n",
        "val_loader = DataLoader(val_data,\n",
        "                          batch_size=32,\n",
        "                          collate_fn=collate_fn)"
      ]
    },
    {
      "cell_type": "code",
      "execution_count": 23,
      "id": "5da5496c",
      "metadata": {
        "id": "5da5496c"
      },
      "outputs": [],
      "source": [
        "encoded_size = 512\n",
        "hidden_size = 512\n",
        "out_size = vocab.length\n",
        "emb_size = 80"
      ]
    },
    {
      "cell_type": "code",
      "execution_count": 94,
      "id": "e9a1f860",
      "metadata": {
        "id": "e9a1f860",
        "colab": {
          "base_uri": "https://localhost:8080/"
        },
        "outputId": "38ee6d7c-80f6-41fc-b66e-d6b97bb8e729"
      },
      "outputs": [
        {
          "output_type": "execute_result",
          "data": {
            "text/plain": [
              "Im2Latex(\n",
              "  (encoder): Encoder(\n",
              "    (encoder): Sequential(\n",
              "      (0): Conv2d(3, 64, kernel_size=(3, 3), stride=(1, 1), padding=(1, 1))\n",
              "      (1): ReLU()\n",
              "      (2): MaxPool2d(kernel_size=2, stride=2, padding=1, dilation=1, ceil_mode=False)\n",
              "      (3): Conv2d(64, 128, kernel_size=(3, 3), stride=(1, 1), padding=(1, 1))\n",
              "      (4): ReLU()\n",
              "      (5): MaxPool2d(kernel_size=2, stride=2, padding=1, dilation=1, ceil_mode=False)\n",
              "      (6): Conv2d(128, 256, kernel_size=(3, 3), stride=(1, 1), padding=(1, 1))\n",
              "      (7): ReLU()\n",
              "      (8): Conv2d(256, 256, kernel_size=(3, 3), stride=(1, 1), padding=(1, 1))\n",
              "      (9): ReLU()\n",
              "      (10): MaxPool2d(kernel_size=(2, 1), stride=(2, 1), padding=0, dilation=1, ceil_mode=False)\n",
              "      (11): Conv2d(256, 512, kernel_size=(3, 3), stride=(1, 1))\n",
              "      (12): ReLU()\n",
              "    )\n",
              "  )\n",
              "  (decoder): Decoder(\n",
              "    (init_Wh): Linear(in_features=512, out_features=512, bias=False)\n",
              "    (init_Wo): Linear(in_features=512, out_features=512, bias=False)\n",
              "    (init_Wc): Linear(in_features=512, out_features=512, bias=False)\n",
              "    (W1): Linear(in_features=512, out_features=512, bias=False)\n",
              "    (W2): Linear(in_features=512, out_features=512, bias=False)\n",
              "    (rnn): LSTMCell(592, 512)\n",
              "    (W3): Linear(in_features=1024, out_features=512, bias=False)\n",
              "    (W_out): Linear(in_features=512, out_features=378, bias=False)\n",
              "    (embedding): Embedding(378, 80, padding_idx=1)\n",
              "    (dropout): Dropout(p=0.2, inplace=False)\n",
              "  )\n",
              ")"
            ]
          },
          "metadata": {},
          "execution_count": 94
        }
      ],
      "source": [
        "model = Im2Latex(encoded_size, hidden_size, out_size, emb_size)\n",
        "model.to(device)"
      ]
    },
    {
      "cell_type": "code",
      "execution_count": null,
      "id": "2797761a",
      "metadata": {
        "id": "2797761a"
      },
      "outputs": [],
      "source": [
        "learning_rate = 1e-6\n",
        "optimizer = optim.Adam(model.parameters(), lr=learning_rate)\n",
        "num_epochs = 2"
      ]
    },
    {
      "cell_type": "code",
      "execution_count": null,
      "id": "76fed07d",
      "metadata": {
        "id": "76fed07d",
        "colab": {
          "base_uri": "https://localhost:8080/"
        },
        "outputId": "cc8e27ca-12c3-4c7f-8350-cfe166b67f10"
      },
      "outputs": [
        {
          "output_type": "stream",
          "name": "stdout",
          "text": [
            "Loss: 0.7272881269454956\n",
            "Logit contains nan: False\n",
            "Validation loss: 0.8706469535827637\n",
            "Loss: 0.6504067778587341\n",
            "Loss: 0.6450098156929016\n",
            "Loss: 0.5547589063644409\n",
            "Loss: 0.638191819190979\n",
            "Loss: 0.7574722170829773\n",
            "Logit contains nan: False\n",
            "Validation loss: 0.7510212063789368\n",
            "Loss: 0.6224419474601746\n",
            "Loss: 0.7738505601882935\n",
            "Loss: 0.7794222235679626\n",
            "Loss: 0.7773436903953552\n",
            "Loss: 0.7511120438575745\n",
            "Logit contains nan: False\n",
            "Validation loss: 0.7437667846679688\n",
            "Loss: 0.6296191215515137\n",
            "Loss: 0.6302059888839722\n",
            "Loss: 0.8190489411354065\n",
            "Loss: 0.6599422693252563\n",
            "Loss: 0.7584898471832275\n",
            "Logit contains nan: False\n",
            "Validation loss: 0.7466873526573181\n",
            "Loss: 0.6570848226547241\n",
            "Loss: 0.5956223011016846\n",
            "Loss: 0.6193143129348755\n",
            "Loss: 0.8940245509147644\n",
            "Loss: 0.6092814207077026\n",
            "Logit contains nan: False\n",
            "Validation loss: 0.610556423664093\n",
            "Loss: 0.6933060884475708\n",
            "Loss: 0.833602786064148\n",
            "Loss: 0.6305325031280518\n",
            "Loss: 0.9013960361480713\n",
            "Loss: 0.6741352081298828\n",
            "Logit contains nan: False\n",
            "Validation loss: 0.9246534705162048\n",
            "Loss: 0.6202947497367859\n",
            "Loss: 0.7626131176948547\n",
            "Loss: 0.7319673895835876\n",
            "Loss: 0.5927417874336243\n",
            "Loss: 0.6925633549690247\n",
            "Logit contains nan: False\n",
            "Validation loss: 0.8134657740592957\n",
            "Loss: 0.7215951085090637\n",
            "Epoch 0 with loss: 0.7181274978497538 ----------------------------------------\n",
            "Loss: 0.730857789516449\n",
            "Logit contains nan: False\n",
            "Validation loss: 0.8876632452011108\n",
            "Loss: 0.6638432741165161\n",
            "Loss: 0.6606246829032898\n",
            "Loss: 0.5297712087631226\n",
            "Loss: 0.6259474158287048\n",
            "Loss: 0.7398491501808167\n",
            "Logit contains nan: False\n",
            "Validation loss: 0.6879059672355652\n",
            "Loss: 0.6182678937911987\n",
            "Loss: 0.7627606391906738\n",
            "Loss: 0.798078179359436\n",
            "Loss: 0.7864136099815369\n",
            "Loss: 0.7526057958602905\n",
            "Logit contains nan: False\n",
            "Validation loss: 0.7536210417747498\n",
            "Loss: 0.6647810935974121\n",
            "Loss: 0.6041358113288879\n",
            "Loss: 0.8012272715568542\n",
            "Loss: 0.676876962184906\n",
            "Loss: 0.7487121224403381\n",
            "Logit contains nan: False\n",
            "Validation loss: 0.7804544568061829\n",
            "Loss: 0.6764367818832397\n",
            "Loss: 0.5897204875946045\n",
            "Loss: 0.6093066930770874\n",
            "Loss: 0.8949427008628845\n",
            "Loss: 0.6295886039733887\n",
            "Logit contains nan: False\n",
            "Validation loss: 0.6352409720420837\n",
            "Loss: 0.6902272701263428\n",
            "Loss: 0.8425462245941162\n",
            "Loss: 0.612206757068634\n",
            "Loss: 0.9120298624038696\n",
            "Loss: 0.6898190975189209\n",
            "Logit contains nan: False\n",
            "Validation loss: 0.934005081653595\n",
            "Loss: 0.6360263824462891\n",
            "Loss: 0.739798903465271\n",
            "Loss: 0.7426467537879944\n",
            "Loss: 0.6092069149017334\n",
            "Loss: 0.6738444566726685\n",
            "Logit contains nan: False\n",
            "Validation loss: 0.7761281132698059\n",
            "Loss: 0.7135928273200989\n",
            "Epoch 1 with loss: 0.717586013074881 ----------------------------------------\n"
          ]
        }
      ],
      "source": [
        "train(model, train_loader, optimizer, num_epochs, val_loader)"
      ]
    },
    {
      "cell_type": "code",
      "execution_count": null,
      "id": "d5acbe50",
      "metadata": {
        "id": "d5acbe50"
      },
      "outputs": [],
      "source": [
        "torch.save(model.state_dict(), os.path.join(data_dir, '10000_model_weights_0129_v3.pth'))"
      ]
    },
    {
      "cell_type": "code",
      "source": [
        "## Note: 10000_model_weights_0129_v3.pth is the best model\n",
        "weights_path = os.path.join(data_dir, '10000_model_weights_0129_v3.pth')\n",
        "model.load_state_dict(torch.load(weights_path, map_location=device))"
      ],
      "metadata": {
        "id": "OjvTC0hMKKpM",
        "colab": {
          "base_uri": "https://localhost:8080/"
        },
        "outputId": "32cff59f-5e26-4765-e7d2-aaf602bf1e46"
      },
      "id": "OjvTC0hMKKpM",
      "execution_count": 95,
      "outputs": [
        {
          "output_type": "execute_result",
          "data": {
            "text/plain": [
              "<All keys matched successfully>"
            ]
          },
          "metadata": {},
          "execution_count": 95
        }
      ]
    },
    {
      "cell_type": "markdown",
      "source": [
        "## Testing with greedy search"
      ],
      "metadata": {
        "id": "xEW9tGNbENTx"
      },
      "id": "xEW9tGNbENTx"
    },
    {
      "cell_type": "code",
      "source": [
        "test_dir = os.path.join(data_dir, \"m_test.csv\")"
      ],
      "metadata": {
        "id": "O1H5qlG2AZwN"
      },
      "id": "O1H5qlG2AZwN",
      "execution_count": 225,
      "outputs": []
    },
    {
      "cell_type": "code",
      "source": [
        "test_data = Im2TexDataset(img_dir, test_dir, vocab)"
      ],
      "metadata": {
        "id": "H6bN3w4fEXes"
      },
      "id": "H6bN3w4fEXes",
      "execution_count": 226,
      "outputs": []
    },
    {
      "cell_type": "code",
      "source": [
        "test_loader = DataLoader(test_data,\n",
        "                         batch_size=32,\n",
        "                         collate_fn=collate_fn)"
      ],
      "metadata": {
        "id": "R2cECvmbEXmh"
      },
      "id": "R2cECvmbEXmh",
      "execution_count": 227,
      "outputs": []
    },
    {
      "cell_type": "code",
      "source": [
        "def evaluate(batch, search):\n",
        "    t_img, t_in, t_out = batch\n",
        "    t_img, t_in = t_img.to(device), t_in.to(device)\n",
        "    t_logits = model.forward(t_img, t_in)\n",
        "    predicted_words = []\n",
        "    targets = []\n",
        "\n",
        "    for t in range(len(t_logits)):\n",
        "        predicted_words.append(search(t_logits[t]))\n",
        "        targets.append(vocab.sign_to_formula(t_out[t]))\n",
        "\n",
        "    return predicted_words, targets"
      ],
      "metadata": {
        "id": "Yn7EkW_WP8Dq"
      },
      "id": "Yn7EkW_WP8Dq",
      "execution_count": 228,
      "outputs": []
    },
    {
      "cell_type": "code",
      "source": [
        "def greedySearch(logit):\n",
        "    words = []\n",
        "    for token in logit:\n",
        "        pred = torch.argmax(token)\n",
        "        word = vocab.itos[pred.item()]\n",
        "        words.append(word)\n",
        "    return words"
      ],
      "metadata": {
        "id": "c-QPNJ2hQaNx"
      },
      "id": "c-QPNJ2hQaNx",
      "execution_count": 229,
      "outputs": []
    },
    {
      "cell_type": "code",
      "source": [
        "def toSentence(list_of_text):\n",
        "    sentence = \"\"\n",
        "    for t in range(len(list_of_text)):\n",
        "        if list_of_text[t] == \"<eos>\":\n",
        "            break\n",
        "        sentence += list_of_text[t] + \" \"\n",
        "    return sentence"
      ],
      "metadata": {
        "id": "wgFAcw4ZQuqF"
      },
      "id": "wgFAcw4ZQuqF",
      "execution_count": 230,
      "outputs": []
    },
    {
      "cell_type": "code",
      "source": [
        "batch = next(iter(test_loader))"
      ],
      "metadata": {
        "id": "WI4ixRCOQfKW"
      },
      "id": "WI4ixRCOQfKW",
      "execution_count": 231,
      "outputs": []
    },
    {
      "cell_type": "code",
      "source": [
        "predicted_words, targets = evaluate(batch, greedySearch)"
      ],
      "metadata": {
        "id": "KpSk3_NcQh28"
      },
      "id": "KpSk3_NcQh28",
      "execution_count": 232,
      "outputs": []
    },
    {
      "cell_type": "code",
      "source": [
        "for idx in range(10, 20):\n",
        "  print(\" \")\n",
        "  print(\"*************************************************************************************************\")\n",
        "  print(\"*************************************************************************************************\")\n",
        "  print(\" \")\n",
        "\n",
        "  print(f\"Target sentence:\")\n",
        "  print(f\"{toSentence(targets[idx])}\")\n",
        "  print(\"-------------------------------------------------------------------------------------------------\")\n",
        "  print(f\"Predicted sentence:\")\n",
        "  print(f\"{toSentence(predicted_words[idx])}\")\n",
        "\n",
        "print(\" \")\n",
        "print(\"*************************************************************************************************\")\n",
        "print(\"*************************************************************************************************\")"
      ],
      "metadata": {
        "colab": {
          "base_uri": "https://localhost:8080/"
        },
        "id": "yezB4dXmZutO",
        "outputId": "c8b9ba6c-144e-4063-ccb6-de01a490bc5f"
      },
      "id": "yezB4dXmZutO",
      "execution_count": 233,
      "outputs": [
        {
          "output_type": "stream",
          "name": "stdout",
          "text": [
            " \n",
            "*************************************************************************************************\n",
            "*************************************************************************************************\n",
            " \n",
            "Target sentence:\n",
            "\\int \\mathrm { d } ^ { 4 } x _ { 1 } ~ \\cdots ~ \\mathrm { d } ^ { 4 } x _ { n } ~ P _ { 4 } ( x _ { 1 } , \\cdots , x _ { n } ) ~ \\Gamma _ { x _ { 1 } \\cdots x _ { n } 0 } = 0 \n",
            "-------------------------------------------------------------------------------------------------\n",
            "Predicted sentence:\n",
            "\\int \\mathrm { d } ^ { 4 } x _ { 1 } \\, \\cdot \\, d { d } ( { 4 } x _ { n } , P _ { 4 } ( x _ { 1 } , \\cdots , x _ { n } ) \\, \\Gamma _ { x _ { n } } a _ { n } } } = 0 \n",
            " \n",
            "*************************************************************************************************\n",
            "*************************************************************************************************\n",
            " \n",
            "Target sentence:\n",
            "{ \\xi } _ { i } ^ { \\ast } , { p } _ { i } ^ { \\ast } , \\quad i = 2 , \\dots , l + 1 \n",
            "-------------------------------------------------------------------------------------------------\n",
            "Predicted sentence:\n",
            "\\xi \\xi } _ { i } ^ { * } , p \\cal } _ { i } ^ { * } , \\qquad i = 2 , \\ldots , l + 1 \n",
            " \n",
            "*************************************************************************************************\n",
            "*************************************************************************************************\n",
            " \n",
            "Target sentence:\n",
            "D ^ { \\mu } \\frac { \\delta f ( A _ { \\nu } ) } { \\delta A _ { \\mu } } = D _ { \\mu } \\partial ^ { \\mu } ( \\partial _ { \\nu } A ^ { \\nu } ) \n",
            "-------------------------------------------------------------------------------------------------\n",
            "Predicted sentence:\n",
            "D ^ { \\mu } { { \\delta f ( A _ { \\nu } ) } { \\delta A _ { \\mu } } = D _ { \\mu } \\partial ^ { \\mu } ( \\partial _ { \\mu } A ^ { \\nu } ) \n",
            " \n",
            "*************************************************************************************************\n",
            "*************************************************************************************************\n",
            " \n",
            "Target sentence:\n",
            "\\delta \\chi _ { \\mu \\nu } = i b _ { \\mu \\nu } , \\qquad \\delta b _ { \\mu \\nu } = 0 . \n",
            "-------------------------------------------------------------------------------------------------\n",
            "Predicted sentence:\n",
            "\\delta \\chi _ { \\mu \\nu } = i b _ { \\mu \\nu } , \\qquad \\delta b _ { \\mu \\nu } = 0 . \n",
            " \n",
            "*************************************************************************************************\n",
            "*************************************************************************************************\n",
            " \n",
            "Target sentence:\n",
            "F _ { a b } = { \\frac { 1 } { 2 } } \\epsilon _ { a b c d } F ^ { c d } \n",
            "-------------------------------------------------------------------------------------------------\n",
            "Predicted sentence:\n",
            "F _ { a b } = \\frac \\frac { 1 } { 2 } } \\epsilon _ { a b } } } b ^ { a d } \n",
            " \n",
            "*************************************************************************************************\n",
            "*************************************************************************************************\n",
            " \n",
            "Target sentence:\n",
            "( a ^ { \\dagger } L _ { m n } a ) = a _ { k } ^ { \\dagger } ( L _ { m n } ) _ { k l } a _ { l } = i a _ { [ m } ^ { \\dagger } a _ { n ] } , \\; \\; \\; \\; \\; \\; ( L _ { m n } ) _ { k l } = i ( \\delta _ { m k } \\delta _ { n l } - \\delta _ { n k } \\delta _ { m l } ) \n",
            "-------------------------------------------------------------------------------------------------\n",
            "Predicted sentence:\n",
            "( n ^ { \\prime } L _ { m n } ^ ) = a _ { k m ( { \\prime } ( L _ { a } } ) _ { \\mu n } ^ _ { n n = i a _ { i m , ] { \\dagger } \\ _ { n } } , \\quad \\; \\; \\; \\; ( ( L _ { m i } = _ { a i } \\delta i ( \\delta _ { m i } = _ { a } } = \\delta _ { m } } ^ _ { a } } ] _ _ _ \n",
            " \n",
            "*************************************************************************************************\n",
            "*************************************************************************************************\n",
            " \n",
            "Target sentence:\n",
            "{ \\bf N } ( { \\bf p } , { \\bf s } ) : = i p _ { 0 } { \\nabla } _ { \\bf p } - \\frac { { \\bf s } \\times { \\bf p } } { p _ { 0 } + m } , \\quad { \\bf J } ( { \\bf p } , { \\bf s } ) : = - i { \\bf p } \\times { \\bf \\nabla } _ { \\bf p } + { \\bf s } : = { \\bf L } ( { \\bf p } ) + { \\bf s } , \n",
            "-------------------------------------------------------------------------------------------------\n",
            "Predicted sentence:\n",
            "\\mathrm \\bf n } _ _ \\bf r } ) { \\bf r } ) = } \\frac _ _ { i } = } } _ { l 1 } - v { 1 \\bf n } } { 2 { } } { 2 _ { 1 } } n } } \n",
            " \n",
            "*************************************************************************************************\n",
            "*************************************************************************************************\n",
            " \n",
            "Target sentence:\n",
            "u _ { 0 } ( k , r ) = \\sqrt { { \\displaystyle { \\frac { \\pi } { 2 } } } } \\, i \\sqrt { r } \\, J _ { 0 } ( k r ) - \\sqrt { { \\displaystyle { \\frac { \\pi } { 2 } } } } \\, A ( k ) \\sqrt { k r } \\, H _ { 0 } ^ { ( 1 ) } ( k r ) . \n",
            "-------------------------------------------------------------------------------------------------\n",
            "Predicted sentence:\n",
            "w _ { 0 } ( k , r ) = \\sqrt { \\pi \\gamma { r { \\pi } { 2 } } \\, { k \\delta _ { \\tau } _ \\sqrt _ { 0 } ( k r ) - \\sqrt { \\frac \\frac \\frac \\pi { \\pi } { 2 } } } A A A ( k ) \\sqrt { \\frac } } \\, H _ { 0 } ^ { ( 1 ) } ( { r ) . \n",
            " \n",
            "*************************************************************************************************\n",
            "*************************************************************************************************\n",
            " \n",
            "Target sentence:\n",
            "J _ { k } = \\oint p _ { k } d q _ { k } , ~ ~ k = r , ~ \\theta , ~ \\phi , \n",
            "-------------------------------------------------------------------------------------------------\n",
            "Predicted sentence:\n",
            "J _ { k } = \\oint p _ { k } d s , { k } , \\quad ~ ~ = r , ~ \\phi , \n",
            " \n",
            "*************************************************************************************************\n",
            "*************************************************************************************************\n",
            " \n",
            "Target sentence:\n",
            "\\delta _ { \\perp } \\kappa _ { 1 } = \\kappa _ { 3 } \\kappa _ { 2 } \\Psi _ { 3 } + 2 \\kappa _ { 2 } \\Psi _ { 2 } { } ^ { \\prime } + \\kappa _ { 2 } ^ { \\prime } \\Psi _ { 2 } + \\Psi _ { 1 } { } ^ { \\prime \\prime } - \\left( \\kappa _ { 1 } ^ { 2 } + \\kappa _ { 2 } { } ^ { 2 } \\right) \\Psi _ { 1 } \\, . \n",
            "-------------------------------------------------------------------------------------------------\n",
            "Predicted sentence:\n",
            "\\delta _ { 1 } = = { 2 } + \\kappa _ { 2 } \\Psi _ { 2 } \\Psi _ { 2 } + k _ _ { 1 } + _ { 2 } + } ^ { L } - k _ { 2 } ^ { 2 } + _ { 1 } + \\kappa _ { 1 } ^ } ^ { 2 } } \\right) \\left( \\epsilon _ { 1 } ^ { 2 } + \\kappa _ { 1 } ^ } ^ { 2 } + \\Phi _ { 1 } ^ . \n",
            " \n",
            "*************************************************************************************************\n",
            "*************************************************************************************************\n"
          ]
        }
      ]
    },
    {
      "cell_type": "markdown",
      "source": [
        "## Testing with beam search"
      ],
      "metadata": {
        "id": "lgRD5Hk1rTEn"
      },
      "id": "lgRD5Hk1rTEn"
    },
    {
      "cell_type": "code",
      "source": [
        "def beam_search(logits, beam_width=8):\n",
        "    sequences = [[list(), 0.0]]\n",
        "    for row in logits:\n",
        "        all_candidates = list()\n",
        "        row = torch.softmax(torch.tensor(row), dim=-1).tolist()\n",
        "        for i in range(len(sequences)):\n",
        "            seq, score = sequences[i]\n",
        "            for j in range(len(row)):\n",
        "                candidate = [seq + [j], score - log(row[j])]\n",
        "                all_candidates.append(candidate)\n",
        "        ordered = sorted(all_candidates, key=lambda tup: tup[1])\n",
        "        sequences = ordered[:beam_width]\n",
        "\n",
        "    optimal_sequence = max(sequences, key=lambda tup: tup[1])[0]\n",
        "    return optimal_sequence, sequences"
      ],
      "metadata": {
        "id": "LAbIqjS4rVpq"
      },
      "id": "LAbIqjS4rVpq",
      "execution_count": null,
      "outputs": []
    },
    {
      "cell_type": "code",
      "source": [
        "beam_predicted_words, targets = evaluate(batch, greedySearch)"
      ],
      "metadata": {
        "id": "6aV6R7YWrskr"
      },
      "id": "6aV6R7YWrskr",
      "execution_count": null,
      "outputs": []
    },
    {
      "cell_type": "code",
      "source": [
        "for idx in range(10, 20):\n",
        "  print(\" \")\n",
        "  print(\"*************************************************************************************************\")\n",
        "  print(\"*************************************************************************************************\")\n",
        "  print(\" \")\n",
        "\n",
        "  print(f\"Target sentence:\")\n",
        "  print(f\"{toSentence(targets[idx])}\")\n",
        "  print(\"-------------------------------------------------------------------------------------------------\")\n",
        "  print(f\"Predicted sentence:\")\n",
        "  print(f\"{toSentence(beam_predicted_words[idx])}\")\n",
        "\n",
        "print(\" \")\n",
        "print(\"*************************************************************************************************\")\n",
        "print(\"*************************************************************************************************\")"
      ],
      "metadata": {
        "colab": {
          "base_uri": "https://localhost:8080/"
        },
        "id": "eMRyxnJErzQE",
        "outputId": "f24b9df8-76fa-405d-e58b-cbfbea89f1e1"
      },
      "id": "eMRyxnJErzQE",
      "execution_count": null,
      "outputs": [
        {
          "output_type": "stream",
          "name": "stdout",
          "text": [
            " \n",
            "*************************************************************************************************\n",
            "*************************************************************************************************\n",
            " \n",
            "Target sentence:\n",
            "\\int \\mathrm { d } ^ { 4 } x _ { 1 } ~ \\cdots ~ \\mathrm { d } ^ { 4 } x _ { n } ~ P _ { 4 } ( x _ { 1 } , \\cdots , x _ { n } ) ~ \\Gamma _ { x _ { 1 } \\cdots x _ { n } 0 } = 0 \n",
            "-------------------------------------------------------------------------------------------------\n",
            "Predicted sentence:\n",
            "\\int d { d } ^ { 4 } x _ { 1 } \\ \\cdots \\, \\mathrm { d e ^ { 4 } x _ { n } , P _ { 4 } ( x _ { 1 } , \\cdots , x _ { n } ) \\, \\Gamma _ { x , { n } } a _ { n } } } = 0 \n",
            " \n",
            "*************************************************************************************************\n",
            "*************************************************************************************************\n",
            " \n",
            "Target sentence:\n",
            "{ \\xi } _ { i } ^ { \\ast } , { p } _ { i } ^ { \\ast } , \\quad i = 2 , \\dots , l + 1 \n",
            "-------------------------------------------------------------------------------------------------\n",
            "Predicted sentence:\n",
            "\\xi \\cal } _ { i } ^ { * } , \\qquad \\cal } = { i } ^ { * } , \\qquad i = 2 , \\ldots , l + 1 \n",
            " \n",
            "*************************************************************************************************\n",
            "*************************************************************************************************\n",
            " \n",
            "Target sentence:\n",
            "D ^ { \\mu } \\frac { \\delta f ( A _ { \\nu } ) } { \\delta A _ { \\mu } } = D _ { \\mu } \\partial ^ { \\mu } ( \\partial _ { \\nu } A ^ { \\nu } ) \n",
            "-------------------------------------------------------------------------------------------------\n",
            "Predicted sentence:\n",
            "D ^ { \\mu } \\frac { \\delta f ( A _ { \\nu } ) } { \\delta A _ { \\mu } } = D _ { \\mu } \\partial ^ { \\mu } ( \\partial _ { \\mu } A ^ { \\nu } ) \n",
            " \n",
            "*************************************************************************************************\n",
            "*************************************************************************************************\n",
            " \n",
            "Target sentence:\n",
            "\\delta \\chi _ { \\mu \\nu } = i b _ { \\mu \\nu } , \\qquad \\delta b _ { \\mu \\nu } = 0 . \n",
            "-------------------------------------------------------------------------------------------------\n",
            "Predicted sentence:\n",
            "\\delta \\chi _ { \\mu \\nu } = i b _ { \\mu \\nu } , \\quad \\delta b _ { \\mu \\nu } = 0 . \n",
            " \n",
            "*************************************************************************************************\n",
            "*************************************************************************************************\n",
            " \n",
            "Target sentence:\n",
            "F _ { a b } = { \\frac { 1 } { 2 } } \\epsilon _ { a b c d } F ^ { c d } \n",
            "-------------------------------------------------------------------------------------------------\n",
            "Predicted sentence:\n",
            "F _ { a b } = \\frac \\frac { 1 } { 2 } } \\epsilon _ { a b b } } p _ { a d } \n",
            " \n",
            "*************************************************************************************************\n",
            "*************************************************************************************************\n",
            " \n",
            "Target sentence:\n",
            "( a ^ { \\dagger } L _ { m n } a ) = a _ { k } ^ { \\dagger } ( L _ { m n } ) _ { k l } a _ { l } = i a _ { [ m } ^ { \\dagger } a _ { n ] } , \\; \\; \\; \\; \\; \\; ( L _ { m n } ) _ { k l } = i ( \\delta _ { m k } \\delta _ { n l } - \\delta _ { n k } \\delta _ { m l } ) \n",
            "-------------------------------------------------------------------------------------------------\n",
            "Predicted sentence:\n",
            "( { ^ { \\prime } L _ { m i } ) ) = a _ { k } | { \\dagger } ( L _ { m } } ^ _ { { _ } = _ { n n = i a _ { m n } , { \\dagger } ~ _ { n } } , \\quad \\; \\; \\; \\; \\; \\; L _ { m } } ^ _ { k } } \\delta i ( \\delta _ { m n } ) _ { n } } ) \\delta _ { m } i ) _ { a } } = _ _ _ \n",
            " \n",
            "*************************************************************************************************\n",
            "*************************************************************************************************\n",
            " \n",
            "Target sentence:\n",
            "{ \\bf N } ( { \\bf p } , { \\bf s } ) : = i p _ { 0 } { \\nabla } _ { \\bf p } - \\frac { { \\bf s } \\times { \\bf p } } { p _ { 0 } + m } , \\quad { \\bf J } ( { \\bf p } , { \\bf s } ) : = - i { \\bf p } \\times { \\bf \\nabla } _ { \\bf p } + { \\bf s } : = { \\bf L } ( { \\bf p } ) + { \\bf s } , \n",
            "-------------------------------------------------------------------------------------------------\n",
            "Predicted sentence:\n",
            "\\mathrm \\mathrm n } _ n \\bf r } ) { \\bf r } ) = = \\frac _ _ { i } } } } _ { l p } \\, { { 1 \\frac r } _ { \\frac r } } } 2 _ { i } } i _ \\\\ \\quad \\mathrm \\bf g } _ v \\bf r } ) p \\bf r } _ \\, r \\frac i _ } r } _ { \\bf r } _ { p { } \\, n \\bf r } _ { \\frac \\frac a } _ n \\bf x } _ _ r \\bf r } _ } \n",
            " \n",
            "*************************************************************************************************\n",
            "*************************************************************************************************\n",
            " \n",
            "Target sentence:\n",
            "u _ { 0 } ( k , r ) = \\sqrt { { \\displaystyle { \\frac { \\pi } { 2 } } } } \\, i \\sqrt { r } \\, J _ { 0 } ( k r ) - \\sqrt { { \\displaystyle { \\frac { \\pi } { 2 } } } } \\, A ( k ) \\sqrt { k r } \\, H _ { 0 } ^ { ( 1 ) } ( k r ) . \n",
            "-------------------------------------------------------------------------------------------------\n",
            "Predicted sentence:\n",
            "w _ { 0 } ( k , r ) = \\sqrt { \\pi \\frac \\sqrt \\pi { \\pi } { 2 } } } i i \\sqrt \\sqrt { r } \\, \\sqrt _ { 0 } ( k r ) - \\sqrt { \\frac \\frac \\sqrt \\pi { \\pi } { 2 } } } \\, { { _ k \\gamma - { \\pi } } \\, \\delta _ { 0 } ( { ( 1 ) } - k r ) - \n",
            " \n",
            "*************************************************************************************************\n",
            "*************************************************************************************************\n",
            " \n",
            "Target sentence:\n",
            "J _ { k } = \\oint p _ { k } d q _ { k } , ~ ~ k = r , ~ \\theta , ~ \\phi , \n",
            "-------------------------------------------------------------------------------------------------\n",
            "Predicted sentence:\n",
            "J _ { k } = \\oint p _ { k } d _ , { k } , \\quad ~ b = r , \\ \\theta , ~ \\phi , ~ \\, , , , , , , \n",
            " \n",
            "*************************************************************************************************\n",
            "*************************************************************************************************\n",
            " \n",
            "Target sentence:\n",
            "\\delta _ { \\perp } \\kappa _ { 1 } = \\kappa _ { 3 } \\kappa _ { 2 } \\Psi _ { 3 } + 2 \\kappa _ { 2 } \\Psi _ { 2 } { } ^ { \\prime } + \\kappa _ { 2 } ^ { \\prime } \\Psi _ { 2 } + \\Psi _ { 1 } { } ^ { \\prime \\prime } - \\left( \\kappa _ { 1 } ^ { 2 } + \\kappa _ { 2 } { } ^ { 2 } \\right) \\Psi _ { 1 } \\, . \n",
            "-------------------------------------------------------------------------------------------------\n",
            "Predicted sentence:\n",
            "\\delta _ { 1 } = _ { 1 } = \\kappa _ { 1 } \\psi \\Phi { 2 } \\Psi _ { 2 } \\Psi k _ ^ { 1 } + _ { 2 } + } ^ { \\prime \\prime + k _ { 1 } + { 2 } + _ { 1 } ^ \\kappa _ { 1 } ^ } ^ { 2 } } - \\left( \\epsilon _ { 1 } ^ { \\prime } + \\kappa _ { 1 } ^ } _ { 2 } + \\Psi _ { 1 } . . \n",
            " \n",
            "*************************************************************************************************\n",
            "*************************************************************************************************\n"
          ]
        }
      ]
    },
    {
      "cell_type": "markdown",
      "source": [
        "## Embedding evaluations"
      ],
      "metadata": {
        "id": "06cIHc_-SCLz"
      },
      "id": "06cIHc_-SCLz"
    },
    {
      "cell_type": "markdown",
      "source": [
        "In this section we attempt to visualize the trained embedding layer. The list of vocab is feeded into the embedding layer and the dimension of the resulting embeddings is projected to a 2D plane using PCA."
      ],
      "metadata": {
        "id": "AWG_b12aWWbw"
      },
      "id": "AWG_b12aWWbw"
    },
    {
      "cell_type": "code",
      "source": [
        "from sklearn.decomposition import PCA\n",
        "import matplotlib.pyplot as plt"
      ],
      "metadata": {
        "id": "ClBlkX2ZUiZ2"
      },
      "id": "ClBlkX2ZUiZ2",
      "execution_count": 47,
      "outputs": []
    },
    {
      "cell_type": "code",
      "source": [
        "# Instantiating the vector to be embedded\n",
        "list_of_vocabs = list(vocab.stoi.values())\n",
        "to_be_embedded = torch.tensor(list_of_vocabs)\n",
        "to_be_embedded = to_be_embedded.reshape(1, -1)\n",
        "to_be_embedded = to_be_embedded.to(device)\n",
        "print(to_be_embedded.shape)"
      ],
      "metadata": {
        "colab": {
          "base_uri": "https://localhost:8080/"
        },
        "id": "k4cI7QjASBef",
        "outputId": "7c6760a0-c8bf-478b-bb04-6d75b17934e2"
      },
      "id": "k4cI7QjASBef",
      "execution_count": 65,
      "outputs": [
        {
          "output_type": "stream",
          "name": "stdout",
          "text": [
            "torch.Size([1, 378])\n"
          ]
        }
      ]
    },
    {
      "cell_type": "code",
      "source": [
        "# Feeds the vector into the embedding layer (378 words with embedding dimension of 80)\n",
        "embedded_words = model.decoder.embedding(to_be_embedded)\n",
        "embedded_words = embedded_words.squeeze(0)\n",
        "print(embedded_words.shape)"
      ],
      "metadata": {
        "colab": {
          "base_uri": "https://localhost:8080/"
        },
        "id": "1ovXZxZLSBmi",
        "outputId": "9d6e178a-0a09-4d99-df60-e9a672f3bfcf"
      },
      "id": "1ovXZxZLSBmi",
      "execution_count": 66,
      "outputs": [
        {
          "output_type": "stream",
          "name": "stdout",
          "text": [
            "torch.Size([378, 80])\n"
          ]
        }
      ]
    },
    {
      "cell_type": "code",
      "source": [
        "# Use PCA to project the embeddings to 2D plane\n",
        "pca = PCA(n_components=2)\n",
        "embedded_words_cpu = embedded_words.cpu().detach().numpy()\n",
        "embeddings_2d = pca.fit_transform(embedded_words_cpu)\n",
        "print(embeddings_2d.shape)"
      ],
      "metadata": {
        "colab": {
          "base_uri": "https://localhost:8080/"
        },
        "id": "6Ln6hS-rSBtn",
        "outputId": "54d5f234-deeb-4483-e3b6-0cc7ebb4a7b9"
      },
      "id": "6Ln6hS-rSBtn",
      "execution_count": 67,
      "outputs": [
        {
          "output_type": "stream",
          "name": "stdout",
          "text": [
            "(378, 2)\n"
          ]
        }
      ]
    },
    {
      "cell_type": "code",
      "source": [
        "# Selecting top k words with highest occurence in data\n",
        "k = 80\n",
        "top_k_keys = [key for key, _ in vocab.counter.most_common(k)]\n",
        "top_k_values = [vocab.stoi[key] for key in top_k_keys]\n",
        "top_embeddings = embeddings_2d[top_k_values]\n",
        "\n",
        "# Visualization of the selected embeddings\n",
        "plt.figure(figsize=(8, 8))\n",
        "plt.scatter(top_embeddings[:, 0], top_embeddings[:, 1], s=5)\n",
        "\n",
        "for i in range(len(top_embeddings)):\n",
        "    plt.annotate(vocab.itos[i], (top_embeddings[i, 0], top_embeddings[i, 1]))\n",
        "\n",
        "plt.xlabel('PCA Component 1')\n",
        "plt.ylabel('PCA Component 2')\n",
        "plt.title('Word Embeddings Visualization (PCA)')\n",
        "plt.show()"
      ],
      "metadata": {
        "colab": {
          "base_uri": "https://localhost:8080/",
          "height": 0
        },
        "id": "4oDRhPG_SBzk",
        "outputId": "40cfddd8-88fe-48e9-97ce-9d2db83dd283"
      },
      "id": "4oDRhPG_SBzk",
      "execution_count": 78,
      "outputs": [
        {
          "output_type": "display_data",
          "data": {
            "text/plain": [
              "<Figure size 800x800 with 1 Axes>"
            ],
            "image/png": "[encoded data removed]"
          },
          "metadata": {}
        }
      ]
    },
    {
      "cell_type": "markdown",
      "source": [
        "## Attention evaluations"
      ],
      "metadata": {
        "id": "c2G8jEcmY5ep"
      },
      "id": "c2G8jEcmY5ep"
    },
    {
      "cell_type": "code",
      "source": [
        "idx = 13\n",
        "sample_img, sample_in, sample_out = batch\n",
        "sample_img, sample_in, sample_out = sample_img[idx].unsqueeze(0), sample_in[idx].unsqueeze(0), sample_out[idx].unsqueeze(0)\n",
        "sample_img, sample_in, sample_out = sample_img.to(device), sample_in.to(device), sample_out.to(device)\n",
        "print(f\"Shape of images: {sample_img.shape}\")\n",
        "print(f\"Shape of input formulas: {sample_in.shape}\")\n",
        "print(f\"Shape of output formulas: {sample_out.shape}\")"
      ],
      "metadata": {
        "colab": {
          "base_uri": "https://localhost:8080/"
        },
        "id": "YBkuilJLY8ln",
        "outputId": "9f595ee9-7bbb-4cd1-9171-6db51e6c72d7"
      },
      "id": "YBkuilJLY8ln",
      "execution_count": 245,
      "outputs": [
        {
          "output_type": "stream",
          "name": "stdout",
          "text": [
            "Shape of images: torch.Size([1, 3, 64, 256])\n",
            "Shape of input formulas: torch.Size([1, 112])\n",
            "Shape of output formulas: torch.Size([1, 112])\n"
          ]
        }
      ]
    },
    {
      "cell_type": "code",
      "source": [
        "model.decoder.empty_attention_cache()\n",
        "sample_logits = model.forward(sample_img, sample_in)"
      ],
      "metadata": {
        "id": "HcAvHCTMY89u"
      },
      "id": "HcAvHCTMY89u",
      "execution_count": 246,
      "outputs": []
    },
    {
      "cell_type": "code",
      "source": [
        "attention_cache = model.decoder.attention_cache\n",
        "attention = []\n",
        "for i in range(len(attention_cache)):\n",
        "  attention.append(attention_cache[i].squeeze(0).view(6, 63))"
      ],
      "metadata": {
        "id": "iQMLTNmCY9HR"
      },
      "id": "iQMLTNmCY9HR",
      "execution_count": 247,
      "outputs": []
    },
    {
      "cell_type": "code",
      "source": [
        "def plot_weights(attention, num_timesteps):\n",
        "\n",
        "  fig, axs = plt.subplots(num_timesteps // 4, 4, figsize=(14, num_timesteps // 2))\n",
        "  fig.suptitle('Visualization of Attention Weights')\n",
        "\n",
        "  for timestep in range(num_timesteps):\n",
        "      ax = axs[timestep // 4, timestep % 4]\n",
        "      weights = attention[timestep]\n",
        "      im = ax.imshow(weights.cpu().detach().numpy(), cmap='viridis')\n",
        "      ax.set_title(f'Timestep {timestep}')\n",
        "      ax.set_xlabel('Channel')\n",
        "      ax.set_ylabel('Position')\n",
        "\n",
        "  plt.tight_layout()\n",
        "  plt.show()"
      ],
      "metadata": {
        "id": "NoFxnGSHvCBh"
      },
      "id": "NoFxnGSHvCBh",
      "execution_count": 248,
      "outputs": []
    },
    {
      "cell_type": "code",
      "source": [
        "plot_weights(attention, num_timesteps=8)"
      ],
      "metadata": {
        "colab": {
          "base_uri": "https://localhost:8080/",
          "height": 317
        },
        "id": "MemwCtEOsnv3",
        "outputId": "d88c5775-b6d9-4deb-e963-bbf16975a8be"
      },
      "id": "MemwCtEOsnv3",
      "execution_count": 249,
      "outputs": [
        {
          "output_type": "display_data",
          "data": {
            "text/plain": [
              "<Figure size 1400x400 with 8 Axes>"
            ],
            "image/png": "[encoded data removed]"
          },
          "metadata": {}
        }
      ]
    },
    {
      "cell_type": "code",
      "source": [
        "def weight_resize(weight_array, target_shape=(64, 256)):\n",
        "\n",
        "    target_rows, target_cols = target_shape\n",
        "    orig_rows, orig_cols = weight_array.shape\n",
        "    row_scale = target_rows / orig_rows\n",
        "    col_scale = target_cols / orig_cols\n",
        "    resized_weight = np.zeros(target_shape)\n",
        "    for i in range(target_rows):\n",
        "        for j in range(target_cols):\n",
        "            orig_i = int(i / row_scale)\n",
        "            orig_j = int(j / col_scale)\n",
        "            resized_weight[i, j] = weight_array[orig_i, orig_j]\n",
        "    return resized_weight"
      ],
      "metadata": {
        "id": "RkgxJbElym51"
      },
      "id": "RkgxJbElym51",
      "execution_count": 250,
      "outputs": []
    },
    {
      "cell_type": "code",
      "source": [
        "def plot_weights_overlay(image, attention, num_timesteps):\n",
        "\n",
        "  fig, axs = plt.subplots(num_timesteps // 4, 4, figsize=(14, num_timesteps // 2))\n",
        "  fig.suptitle('Visualization of Attention Weights Overlayed on Images')\n",
        "\n",
        "  for timestep in range(num_timesteps):\n",
        "      ax = axs[timestep // 4, timestep % 4]\n",
        "      weights = attention[timestep]\n",
        "      weight_resized = weight_resize(weights)\n",
        "\n",
        "      min_val = np.min(weight_resized)\n",
        "      max_val = np.max(weight_resized)\n",
        "      weight_resized = (weight_resized - min_val) / (max_val - min_val)\n",
        "      weight_resized = cv2.GaussianBlur(weight_resized, (3, 3), 0)\n",
        "\n",
        "      weight_resized = weight_resized[:, :, np.newaxis]\n",
        "\n",
        "      masked_image = image * (weight_resized + 0.3)\n",
        "\n",
        "      im = ax.imshow(masked_image)\n",
        "      ax.set_title(f'Timestep {timestep}: {predicted_words[idx][timestep]}')\n",
        "      ax.set_xlabel('Channel')\n",
        "      ax.set_ylabel('Position')\n",
        "\n",
        "  plt.tight_layout()\n",
        "  plt.show()"
      ],
      "metadata": {
        "id": "-udmUiPB1eKL"
      },
      "id": "-udmUiPB1eKL",
      "execution_count": 259,
      "outputs": []
    },
    {
      "cell_type": "code",
      "source": [
        "image = sample_img.squeeze(0).permute(1, 2, 0).cpu().detach().numpy()\n",
        "plot_weights_overlay(image, attention, num_timesteps=8)"
      ],
      "metadata": {
        "colab": {
          "base_uri": "https://localhost:8080/",
          "height": 339
        },
        "id": "JBL6s-N811Jn",
        "outputId": "956b53a5-4c98-4ef6-da9b-8e6743e8b6d6"
      },
      "id": "JBL6s-N811Jn",
      "execution_count": 260,
      "outputs": [
        {
          "output_type": "display_data",
          "data": {
            "text/plain": [
              "<Figure size 1400x400 with 8 Axes>"
            ],
            "image/png": "[encoded data removed]"
          },
          "metadata": {}
        }
      ]
    }
  ],
  "metadata": {
    "kernelspec": {
      "display_name": "Python 3",
      "name": "python3"
    },
    "language_info": {
      "codemirror_mode": {
        "name": "ipython",
        "version": 3
      },
      "file_extension": ".py",
      "mimetype": "text/x-python",
      "name": "python",
      "nbconvert_exporter": "python",
      "pygments_lexer": "ipython3",
      "version": "3.9.13"
    },
    "colab": {
      "provenance": [],
      "machine_shape": "hm",
      "gpuType": "T4",
      "collapsed_sections": [
        "A7p5o5gNqAwI",
        "KQFr9_OskXH7",
        "979bf742",
        "194e6ce1",
        "94d93760",
        "c6a7f30f",
        "6993a0de",
        "19a2917c"
      ]
    },
    "accelerator": "GPU"
  },
  "nbformat": 4,
  "nbformat_minor": 5
}