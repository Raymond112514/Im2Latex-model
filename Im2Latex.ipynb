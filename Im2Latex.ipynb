{
  "cells": [
    {
      "cell_type": "markdown",
      "source": [
        "## Import libraries"
      ],
      "metadata": {
        "id": "A7p5o5gNqAwI"
      },
      "id": "A7p5o5gNqAwI"
    },
    {
      "cell_type": "code",
      "execution_count": null,
      "id": "18167cff",
      "metadata": {
        "id": "18167cff"
      },
      "outputs": [],
      "source": [
        "import os\n",
        "import math\n",
        "import torch\n",
        "import pandas as pd\n",
        "from PIL import Image\n",
        "from functools import partial\n",
        "from collections import Counter\n",
        "from torchvision import transforms\n",
        "import pandas as pd\n",
        "import torch.optim as optim\n",
        "import matplotlib.pyplot as plt\n",
        "from torch.utils.data import DataLoader, Dataset\n",
        "import torch.nn as nn\n",
        "import torch.nn.functional as F"
      ]
    },
    {
      "cell_type": "code",
      "source": [
        "from google.colab import drive\n",
        "drive.mount('/content/drive')"
      ],
      "metadata": {
        "colab": {
          "base_uri": "https://localhost:8080/"
        },
        "id": "FJT3FrqUd3Je",
        "outputId": "7142f37b-e72e-43a7-f6cf-b6db2eabeb65"
      },
      "id": "FJT3FrqUd3Je",
      "execution_count": null,
      "outputs": [
        {
          "output_type": "stream",
          "name": "stdout",
          "text": [
            "Mounted at /content/drive\n"
          ]
        }
      ]
    },
    {
      "cell_type": "code",
      "execution_count": null,
      "id": "00919d44",
      "metadata": {
        "id": "00919d44",
        "outputId": "604c5918-3366-4e9d-ccb5-08a309643fd0",
        "colab": {
          "base_uri": "https://localhost:8080/"
        }
      },
      "outputs": [
        {
          "output_type": "stream",
          "name": "stdout",
          "text": [
            "Data directory: /content/drive/MyDrive/Im2Latex/Dataset\n"
          ]
        }
      ],
      "source": [
        "data_dir = \"/content/drive/MyDrive/Im2Latex/Dataset\"\n",
        "img_dir = '/content/drive/MyDrive/Im2Latex/Dataset/formula_images/formula_images_processed/formula_images_processed'\n",
        "print(f\"Data directory: {data_dir}\")"
      ]
    },
    {
      "cell_type": "code",
      "source": [
        "os.listdir(data_dir)"
      ],
      "metadata": {
        "colab": {
          "base_uri": "https://localhost:8080/"
        },
        "id": "HX_fKTbgIlwy",
        "outputId": "11d674a1-a708-432f-aab1-13cba831a229"
      },
      "id": "HX_fKTbgIlwy",
      "execution_count": null,
      "outputs": [
        {
          "output_type": "execute_result",
          "data": {
            "text/plain": [
              "['im2latex_formulas.norm.csv',\n",
              " 'formula_images',\n",
              " 'm_train.csv',\n",
              " 'm_val.csv',\n",
              " 'm_test.csv',\n",
              " 'model_weights.pth',\n",
              " '10000_model_weights.pth',\n",
              " '10000_model_weights2.pth',\n",
              " '10000_model_weights19.pth']"
            ]
          },
          "metadata": {},
          "execution_count": 4
        }
      ]
    },
    {
      "cell_type": "code",
      "execution_count": null,
      "id": "9cf98268",
      "metadata": {
        "id": "9cf98268"
      },
      "outputs": [],
      "source": [
        "train_samples = 10000"
      ]
    },
    {
      "cell_type": "markdown",
      "id": "979bf742",
      "metadata": {
        "id": "979bf742"
      },
      "source": [
        "## Vocab class"
      ]
    },
    {
      "cell_type": "code",
      "execution_count": null,
      "id": "c620ac39",
      "metadata": {
        "id": "c620ac39"
      },
      "outputs": [],
      "source": [
        "START_TOKEN = 0\n",
        "PAD_TOKEN = 1\n",
        "END_TOKEN = 2\n",
        "UNK_TOKEN = 3"
      ]
    },
    {
      "cell_type": "code",
      "execution_count": null,
      "id": "baf700c4",
      "metadata": {
        "id": "baf700c4",
        "colab": {
          "base_uri": "https://localhost:8080/"
        },
        "outputId": "7defa377-fa56-4a9e-b445-ccc250711fd8"
      },
      "outputs": [
        {
          "output_type": "stream",
          "name": "stdout",
          "text": [
            "Length of formula list: 10000\n"
          ]
        }
      ],
      "source": [
        "formula_list = pd.read_csv(os.path.join(data_dir, \"m_train.csv\"))[\"formula\"].tolist()[:train_samples]\n",
        "print(f\"Length of formula list: {len(formula_list)}\")"
      ]
    },
    {
      "cell_type": "code",
      "execution_count": null,
      "id": "2b7c28ea",
      "metadata": {
        "id": "2b7c28ea"
      },
      "outputs": [],
      "source": [
        "class Vocab:\n",
        "    def __init__(self, formulas, freq=2):\n",
        "        self.formulas = formulas\n",
        "        self.stoi = {\"<sos>\": START_TOKEN, \"<eos>\": END_TOKEN,\n",
        "                     \"<pad>\": PAD_TOKEN, \"<unk>\": UNK_TOKEN}\n",
        "        self.itos = dict((idx, token) for token, idx in self.stoi.items())\n",
        "        self.length = 4\n",
        "        self.counter = Counter()\n",
        "        self.freq = freq\n",
        "        self.build_vocab()\n",
        "\n",
        "    def add_sign(self, sign):\n",
        "        self.stoi[sign] = self.length\n",
        "        self.itos[self.length] = sign\n",
        "        self.length += 1\n",
        "\n",
        "    def build_vocab(self):\n",
        "        for formula in self.formulas:\n",
        "            for token in formula.split():\n",
        "                self.counter.update([token])\n",
        "\n",
        "        for token, count in self.counter.items():\n",
        "            if count >= self.freq:\n",
        "                self.add_sign(token)\n",
        "\n",
        "    def formula_to_sign(self, formula):\n",
        "        signed = []\n",
        "        for token in formula.split():\n",
        "            if token in self.stoi:\n",
        "                signed.append(self.stoi[token])\n",
        "            else:\n",
        "                signed.append(UNK_TOKEN)\n",
        "        return torch.tensor(signed)\n",
        "\n",
        "    def sign_to_formula(self, signed):\n",
        "        formula = []\n",
        "        for sign in signed:\n",
        "            if sign.item() in self.itos:\n",
        "                formula.append(self.itos[sign.item()])\n",
        "        return formula"
      ]
    },
    {
      "cell_type": "code",
      "execution_count": null,
      "id": "85246488",
      "metadata": {
        "id": "85246488",
        "colab": {
          "base_uri": "https://localhost:8080/"
        },
        "outputId": "9230badf-4f44-4bf6-b5de-612909a321e2"
      },
      "outputs": [
        {
          "output_type": "stream",
          "name": "stdout",
          "text": [
            "Length of dictionary: 378\n"
          ]
        }
      ],
      "source": [
        "vocab = Vocab(formula_list)\n",
        "print(f\"Length of dictionary: {vocab.length}\")"
      ]
    },
    {
      "cell_type": "markdown",
      "id": "194e6ce1",
      "metadata": {
        "id": "194e6ce1"
      },
      "source": [
        "## Dataset class"
      ]
    },
    {
      "cell_type": "code",
      "execution_count": null,
      "id": "16a02632",
      "metadata": {
        "id": "16a02632"
      },
      "outputs": [],
      "source": [
        "class Im2TexDataset(Dataset):\n",
        "    def __init__(self, img_dir, formula_dir, vocab, n_samples=train_samples):\n",
        "        self.img_dir = img_dir\n",
        "        self.data = pd.read_csv(formula_dir, nrows=n_samples)\n",
        "        self.transform = transforms.Compose([\n",
        "                             transforms.Resize((64, 256)),\n",
        "                             transforms.ToTensor(),\n",
        "                         ])\n",
        "        self.vocab = vocab\n",
        "\n",
        "    def __len__(self):\n",
        "        return len(self.data)\n",
        "\n",
        "    def __getitem__(self, idx):\n",
        "        img_name, formula = self.data.iloc[idx][1], self.data.iloc[idx][0]\n",
        "        img = Image.open(os.path.join(self.img_dir, img_name))\n",
        "        img = self.transform(img)\n",
        "        formula = self.vocab.formula_to_sign(formula)\n",
        "        return img, formula"
      ]
    },
    {
      "cell_type": "markdown",
      "id": "94d93760",
      "metadata": {
        "id": "94d93760"
      },
      "source": [
        "## Dataloader class"
      ]
    },
    {
      "cell_type": "code",
      "execution_count": null,
      "id": "05239054",
      "metadata": {
        "id": "05239054"
      },
      "outputs": [],
      "source": [
        "def collate_fn(batch):\n",
        "    img = torch.stack([elem[0] for elem in batch])\n",
        "    formulas = [elem[1] for elem in batch]\n",
        "    max_len = len(max(formulas, key=lambda x: len(x))) + 1\n",
        "    in_for = [torch.cat((torch.tensor([START_TOKEN]), formula))for formula in formulas]\n",
        "    out_for = [torch.cat((formula, torch.tensor([END_TOKEN])))for formula in formulas]\n",
        "    in_for = pad(in_for, max_len)\n",
        "    out_for = pad(out_for, max_len)\n",
        "    return img, in_for, out_for\n",
        "\n",
        "def pad(formulas, size):\n",
        "    padded = []\n",
        "    for formula in formulas:\n",
        "        while len(formula) < size:\n",
        "            formula = torch.cat((formula, torch.tensor([PAD_TOKEN])))\n",
        "        padded.append(formula)\n",
        "    return torch.stack(padded)"
      ]
    },
    {
      "cell_type": "markdown",
      "id": "c6a7f30f",
      "metadata": {
        "id": "c6a7f30f"
      },
      "source": [
        "## Encoder module"
      ]
    },
    {
      "cell_type": "code",
      "execution_count": null,
      "id": "848c147b",
      "metadata": {
        "id": "848c147b"
      },
      "outputs": [],
      "source": [
        "def add_positional_features(tensor: torch.Tensor,\n",
        "                            min_timescale: float = 1.0,\n",
        "                            max_timescale: float = 1.0e4):\n",
        "    _, timesteps, hidden_dim = tensor.size()\n",
        "\n",
        "    timestep_range = get_range_vector(timesteps, tensor.device).data.float()\n",
        "    num_timescales = hidden_dim // 2\n",
        "    timescale_range = get_range_vector(\n",
        "        num_timescales, tensor.device).data.float()\n",
        "\n",
        "    log_timescale_increments = math.log(\n",
        "        float(max_timescale) / float(min_timescale)) / float(num_timescales - 1)\n",
        "    inverse_timescales = min_timescale * \\\n",
        "        torch.exp(timescale_range * -log_timescale_increments)\n",
        "    scaled_time = timestep_range.unsqueeze(1) * inverse_timescales.unsqueeze(0)\n",
        "    sinusoids = torch.randn(\n",
        "        scaled_time.size(0), 2*scaled_time.size(1), device=tensor.device)\n",
        "    sinusoids[:, ::2] = torch.sin(scaled_time)\n",
        "    sinusoids[:, 1::2] = torch.sin(scaled_time)\n",
        "    if hidden_dim % 2 != 0:\n",
        "        sinusoids = torch.cat(\n",
        "            [sinusoids, sinusoids.new_zeros(timesteps, 1)], 1)\n",
        "    return tensor + sinusoids.unsqueeze(0)\n",
        "\n",
        "def get_range_vector(size: int, device) -> torch.Tensor:\n",
        "    return torch.arange(0, size, dtype=torch.long, device=device)"
      ]
    },
    {
      "cell_type": "code",
      "execution_count": null,
      "id": "20d7cccf",
      "metadata": {
        "id": "20d7cccf"
      },
      "outputs": [],
      "source": [
        "class Encoder(nn.Module):\n",
        "\n",
        "    def __init__(self, enc_out_dim=512):\n",
        "        super(Encoder, self).__init__()\n",
        "        self.encoder = nn.Sequential(\n",
        "            nn.Conv2d(3, 64, 3, 1, 1),\n",
        "            nn.ReLU(),\n",
        "            nn.MaxPool2d(2, 2, 1),\n",
        "\n",
        "            nn.Conv2d(64, 128, 3, 1, 1),\n",
        "            nn.ReLU(),\n",
        "            nn.MaxPool2d(2, 2, 1),\n",
        "\n",
        "            nn.Conv2d(128, 256, 3, 1, 1),\n",
        "            nn.ReLU(),\n",
        "            nn.Conv2d(256, 256, 3, 1, 1),\n",
        "            nn.ReLU(),\n",
        "            nn.MaxPool2d((2, 1), (2, 1), 0),\n",
        "\n",
        "            nn.Conv2d(256, enc_out_dim, 3, 1, 0),\n",
        "            nn.ReLU()\n",
        "        )\n",
        "\n",
        "    def forward(self, img):\n",
        "        out = self.encoder(img)\n",
        "        out = out.permute(0, 2, 3, 1)\n",
        "        B, H, W, _ = out.shape\n",
        "        out = out.contiguous().view(B, H*W, -1)\n",
        "        out = add_positional_features(out)\n",
        "        return out"
      ]
    },
    {
      "cell_type": "markdown",
      "id": "6993a0de",
      "metadata": {
        "id": "6993a0de"
      },
      "source": [
        "## Decoder module"
      ]
    },
    {
      "cell_type": "code",
      "execution_count": null,
      "id": "2ed3578f",
      "metadata": {
        "id": "2ed3578f"
      },
      "outputs": [],
      "source": [
        "class Decoder(nn.Module):\n",
        "    # Input size of LSTM: hidden_size + encoded_size (cat embedding (hidden size) and context vector)\n",
        "    # Output size of LSTM: encoded_size\n",
        "    # out_size = number of vocabs\n",
        "\n",
        "    def __init__(self, encoded_size, hidden_size, out_size, emb_size, dropout=0.2):\n",
        "        super(Decoder, self).__init__()\n",
        "        self.init_Wh = nn.Linear(encoded_size, hidden_size, bias=False)\n",
        "        self.init_Wo = nn.Linear(encoded_size, hidden_size, bias=False)\n",
        "        self.init_Wc = nn.Linear(encoded_size, hidden_size, bias=False)\n",
        "\n",
        "        self.beta = nn.Parameter(torch.Tensor(encoded_size))\n",
        "        nn.init.normal_(self.beta, mean=0, std=0.01)\n",
        "\n",
        "        self.W1 = nn.Linear(encoded_size, encoded_size, bias=False)\n",
        "        self.W2 = nn.Linear(hidden_size, encoded_size, bias=False)\n",
        "\n",
        "        self.rnn = nn.LSTMCell(hidden_size + emb_size, hidden_size)\n",
        "\n",
        "        self.W3 = nn.Linear(hidden_size + encoded_size, hidden_size, bias=False)\n",
        "        self.W_out = nn.Linear(hidden_size, out_size, bias=False)\n",
        "        self.embedding = nn.Embedding(num_embeddings=out_size, embedding_dim=emb_size, padding_idx=PAD_TOKEN)\n",
        "        self.dropout = nn.Dropout(p=dropout)\n",
        "\n",
        "        self.c = None\n",
        "\n",
        "    def forward(self, encoded_imgs, formulas):\n",
        "        dec_state, o_t = self.get_init_state(encoded_imgs)\n",
        "        max_len = formulas.shape[1]\n",
        "        logits = []\n",
        "        for t in range(max_len):\n",
        "            text = formulas[:, t:t+1]\n",
        "            dec_states, o_t, logit = self.one_step_decode(\n",
        "                text, encoded_imgs, dec_state, o_t)\n",
        "            logits.append(logit)\n",
        "        logits = torch.stack(logits, dim=1)  # [B, MAX_LEN, out_size]\n",
        "        return logits\n",
        "\n",
        "    def one_step_decode(self, text, enc_out, dec_state, o_t):\n",
        "        embed = self.embedding(text).squeeze(dim=1) # [B, 1, O] -> [B, O]\n",
        "        inp = torch.cat([embed, o_t], dim=1)\n",
        "        h_t, c_t = self.rnn(inp, dec_state)\n",
        "        h_t = self.dropout(h_t)\n",
        "        c_t = self.dropout(c_t)\n",
        "\n",
        "        # context_t : [B, C]\n",
        "        context_t, attn_scores = self.get_attention_weights(enc_out, h_t)\n",
        "\n",
        "        # [B, dec_rnn_h]\n",
        "        o_t = self.W3(torch.cat([h_t, context_t], dim=1)).tanh()\n",
        "        o_t = self.dropout(o_t)\n",
        "        logit = F.softmax(self.W_out(o_t), dim=1)  # [B, out_size]\n",
        "\n",
        "        return (h_t, c_t), o_t, logit\n",
        "\n",
        "    def get_attention_weights(self, enc_out, h_t):\n",
        "        # enc_out: [B, L=H*W, C]\n",
        "        # h_t: [B, H]\n",
        "        #                     [B, L, C]     [B, C] -> [B, 1, C]\n",
        "        alpha = torch.tanh(self.W1(enc_out) + self.W2(h_t).unsqueeze(1)) # [B, L, C]\n",
        "        alpha = torch.sum(self.beta * alpha, dim=-1) #[B, L]\n",
        "        alpha = F.softmax(alpha, dim=-1) # [B, L]\n",
        "\n",
        "        #                    [B, 1, L]     [B, L, C]\n",
        "        context = torch.bmm(alpha.unsqueeze(1), enc_out) #[B, 1, C]\n",
        "        context = context.squeeze(1) #[B, C]\n",
        "        return context, alpha\n",
        "\n",
        "    def get_init_state(self, enc_out):\n",
        "        h = self.get_init_h(enc_out)\n",
        "        o = self.get_init_o(enc_out)\n",
        "        c = self.get_init_c(enc_out)\n",
        "        return (h, c), o\n",
        "\n",
        "    # [B, H]\n",
        "    def get_init_h(self, enc_out):\n",
        "        mean = enc_out.mean(dim=1)\n",
        "        out = torch.tanh(self.init_Wh(mean))\n",
        "        return out\n",
        "\n",
        "    # [B, H]\n",
        "    def get_init_o(self, enc_out):\n",
        "        mean = enc_out.mean(dim=1)\n",
        "        out = torch.tanh(self.init_Wo(mean))\n",
        "        return out\n",
        "\n",
        "    # [B, H]\n",
        "    def get_init_c(self, enc_out):\n",
        "        mean = enc_out.mean(dim=1)\n",
        "        out = torch.tanh(self.init_Wc(mean))\n",
        "        return out"
      ]
    },
    {
      "cell_type": "markdown",
      "id": "19a2917c",
      "metadata": {
        "id": "19a2917c"
      },
      "source": [
        "## Im2Latex Model"
      ]
    },
    {
      "cell_type": "code",
      "execution_count": null,
      "id": "180cc597",
      "metadata": {
        "id": "180cc597"
      },
      "outputs": [],
      "source": [
        "class Im2Latex(nn.Module):\n",
        "\n",
        "    def __init__(self, encoded_size, hidden_size, out_size, emb_size, dropout=0.1):\n",
        "        super(Im2Latex, self).__init__()\n",
        "        self.encoder = Encoder(encoded_size)\n",
        "        self.decoder = Decoder(encoded_size, hidden_size, out_size, emb_size)\n",
        "\n",
        "    def forward(self, imgs, formulas):\n",
        "        encoded_imgs = self.encoder(imgs)\n",
        "        logits = self.decoder(encoded_imgs, formulas)\n",
        "        return logits"
      ]
    },
    {
      "cell_type": "markdown",
      "id": "2cbbf4c6",
      "metadata": {
        "id": "2cbbf4c6"
      },
      "source": [
        "## Training Loop"
      ]
    },
    {
      "cell_type": "code",
      "execution_count": null,
      "id": "bbbe2a24",
      "metadata": {
        "id": "bbbe2a24"
      },
      "outputs": [],
      "source": [
        "def cal_loss(logits, targets):\n",
        "    padding = torch.ones_like(targets) * PAD_TOKEN\n",
        "    mask = (targets != padding)\n",
        "\n",
        "    targets = targets.masked_select(mask)\n",
        "    logits = logits.masked_select(\n",
        "        mask.unsqueeze(2).expand(-1, -1, logits.size(2))\n",
        "    ).contiguous().view(-1, logits.size(2))\n",
        "    logits = torch.log(logits)\n",
        "\n",
        "    assert logits.size(0) == targets.size(0)\n",
        "\n",
        "    loss = F.nll_loss(logits, targets)\n",
        "    return loss"
      ]
    },
    {
      "cell_type": "code",
      "execution_count": null,
      "id": "6a83bba7",
      "metadata": {
        "id": "6a83bba7"
      },
      "outputs": [],
      "source": [
        "def train(model, train_loader, optimizer, num_epochs, val_loader=None):\n",
        "    for epoch in range(num_epochs):\n",
        "        total_loss = 0\n",
        "        n = 0\n",
        "        if val_loader is not None:\n",
        "            val_iter = iter(val_loader)\n",
        "        for imgs, in_for, out_for in train_loader:\n",
        "            imgs, in_for, out_for = imgs.to(device), in_for.to(device), out_for.to(device)\n",
        "            optimizer.zero_grad()\n",
        "            logits = model.forward(imgs, in_for)\n",
        "            loss = cal_loss(logits, out_for)\n",
        "            loss.backward(retain_graph=True)\n",
        "            optimizer.step()\n",
        "            total_loss += loss.item()\n",
        "            if n % 10 == 0:\n",
        "                print(f\"Loss: {loss.item()}\")\n",
        "            if n % 50 == 0:\n",
        "                print(f\"Logit contains nan: {torch.isnan(logits).any().item()}\")\n",
        "                if val_loader is not None:\n",
        "                    imgs, in_for, out_for = next(val_iter)\n",
        "                    imgs, in_for, out_for = imgs.to(device), in_for.to(device), out_for.to(device)\n",
        "                    logits = model(imgs, in_for)\n",
        "                    print(f\"Validation loss: {cal_loss(logits, out_for)}\")\n",
        "            n += 1\n",
        "        print(f\"Epoch {epoch} with loss: {total_loss / n} ----------------------------------------\")"
      ]
    },
    {
      "cell_type": "markdown",
      "source": [
        "## Training loop"
      ],
      "metadata": {
        "id": "AcQHKBwELsDQ"
      },
      "id": "AcQHKBwELsDQ"
    },
    {
      "cell_type": "code",
      "source": [
        "device = torch.device('cuda' if torch.cuda.is_available() else 'cpu')\n",
        "print(f\"Using device: {device}\")"
      ],
      "metadata": {
        "colab": {
          "base_uri": "https://localhost:8080/"
        },
        "id": "5YQ-5tCylX88",
        "outputId": "4200f107-f519-4f06-f497-3b6fdf473859"
      },
      "id": "5YQ-5tCylX88",
      "execution_count": null,
      "outputs": [
        {
          "output_type": "stream",
          "name": "stdout",
          "text": [
            "Using device: cuda\n"
          ]
        }
      ]
    },
    {
      "cell_type": "code",
      "execution_count": null,
      "id": "0d2009dd",
      "metadata": {
        "id": "0d2009dd"
      },
      "outputs": [],
      "source": [
        "train_dir = os.path.join(data_dir, \"m_train.csv\")\n",
        "val_dir = os.path.join(data_dir, \"m_val.csv\")"
      ]
    },
    {
      "cell_type": "code",
      "execution_count": null,
      "id": "943dab2b",
      "metadata": {
        "id": "943dab2b"
      },
      "outputs": [],
      "source": [
        "train_data = Im2TexDataset(img_dir, train_dir, vocab)\n",
        "val_data = Im2TexDataset(img_dir, val_dir, vocab)"
      ]
    },
    {
      "cell_type": "code",
      "execution_count": null,
      "id": "be3cbb44",
      "metadata": {
        "id": "be3cbb44"
      },
      "outputs": [],
      "source": [
        "train_loader = DataLoader(train_data,\n",
        "                          batch_size=32,\n",
        "                          collate_fn=collate_fn)\n",
        "val_loader = DataLoader(val_data,\n",
        "                          batch_size=32,\n",
        "                          collate_fn=collate_fn)"
      ]
    },
    {
      "cell_type": "code",
      "execution_count": null,
      "id": "5da5496c",
      "metadata": {
        "id": "5da5496c"
      },
      "outputs": [],
      "source": [
        "encoded_size = 512\n",
        "hidden_size = 512\n",
        "out_size = vocab.length\n",
        "emb_size = 80"
      ]
    },
    {
      "cell_type": "code",
      "execution_count": null,
      "id": "e9a1f860",
      "metadata": {
        "id": "e9a1f860",
        "colab": {
          "base_uri": "https://localhost:8080/"
        },
        "outputId": "38b9bdb7-0451-429d-d1b7-566ce9d45e0d"
      },
      "outputs": [
        {
          "output_type": "execute_result",
          "data": {
            "text/plain": [
              "Im2Latex(\n",
              "  (encoder): Encoder(\n",
              "    (encoder): Sequential(\n",
              "      (0): Conv2d(3, 64, kernel_size=(3, 3), stride=(1, 1), padding=(1, 1))\n",
              "      (1): ReLU()\n",
              "      (2): MaxPool2d(kernel_size=2, stride=2, padding=1, dilation=1, ceil_mode=False)\n",
              "      (3): Conv2d(64, 128, kernel_size=(3, 3), stride=(1, 1), padding=(1, 1))\n",
              "      (4): ReLU()\n",
              "      (5): MaxPool2d(kernel_size=2, stride=2, padding=1, dilation=1, ceil_mode=False)\n",
              "      (6): Conv2d(128, 256, kernel_size=(3, 3), stride=(1, 1), padding=(1, 1))\n",
              "      (7): ReLU()\n",
              "      (8): Conv2d(256, 256, kernel_size=(3, 3), stride=(1, 1), padding=(1, 1))\n",
              "      (9): ReLU()\n",
              "      (10): MaxPool2d(kernel_size=(2, 1), stride=(2, 1), padding=0, dilation=1, ceil_mode=False)\n",
              "      (11): Conv2d(256, 512, kernel_size=(3, 3), stride=(1, 1))\n",
              "      (12): ReLU()\n",
              "    )\n",
              "  )\n",
              "  (decoder): Decoder(\n",
              "    (init_Wh): Linear(in_features=512, out_features=512, bias=False)\n",
              "    (init_Wo): Linear(in_features=512, out_features=512, bias=False)\n",
              "    (init_Wc): Linear(in_features=512, out_features=512, bias=False)\n",
              "    (W1): Linear(in_features=512, out_features=512, bias=False)\n",
              "    (W2): Linear(in_features=512, out_features=512, bias=False)\n",
              "    (rnn): LSTMCell(592, 512)\n",
              "    (W3): Linear(in_features=1024, out_features=512, bias=False)\n",
              "    (W_out): Linear(in_features=512, out_features=378, bias=False)\n",
              "    (embedding): Embedding(378, 80, padding_idx=1)\n",
              "    (dropout): Dropout(p=0.2, inplace=False)\n",
              "  )\n",
              ")"
            ]
          },
          "metadata": {},
          "execution_count": 23
        }
      ],
      "source": [
        "model = Im2Latex(encoded_size, hidden_size, out_size, emb_size)\n",
        "model.to(device)"
      ]
    },
    {
      "cell_type": "code",
      "execution_count": null,
      "id": "2797761a",
      "metadata": {
        "id": "2797761a"
      },
      "outputs": [],
      "source": [
        "learning_rate = 1e-5\n",
        "optimizer = optim.Adam(model.parameters(), lr=learning_rate)\n",
        "num_epochs = 2"
      ]
    },
    {
      "cell_type": "code",
      "execution_count": null,
      "id": "76fed07d",
      "metadata": {
        "id": "76fed07d",
        "colab": {
          "base_uri": "https://localhost:8080/",
          "height": 381
        },
        "outputId": "5ee22c99-1413-41d2-c85c-b86e2107bc0e"
      },
      "outputs": [
        {
          "output_type": "error",
          "ename": "OutOfMemoryError",
          "evalue": "CUDA out of memory. Tried to allocate 128.00 MiB. GPU 0 has a total capacty of 14.75 GiB of which 33.06 MiB is free. Process 8985 has 14.71 GiB memory in use. Of the allocated memory 14.44 GiB is allocated by PyTorch, and 124.24 MiB is reserved by PyTorch but unallocated. If reserved but unallocated memory is large try setting max_split_size_mb to avoid fragmentation.  See documentation for Memory Management and PYTORCH_CUDA_ALLOC_CONF",
          "traceback": [
            "\u001b[0;31m---------------------------------------------------------------------------\u001b[0m",
            "\u001b[0;31mOutOfMemoryError\u001b[0m                          Traceback (most recent call last)",
            "\u001b[0;32m<ipython-input-31-b5e98005e710>\u001b[0m in \u001b[0;36m<cell line: 1>\u001b[0;34m()\u001b[0m\n\u001b[0;32m----> 1\u001b[0;31m \u001b[0mtrain\u001b[0m\u001b[0;34m(\u001b[0m\u001b[0mmodel\u001b[0m\u001b[0;34m,\u001b[0m \u001b[0mtrain_loader\u001b[0m\u001b[0;34m,\u001b[0m \u001b[0moptimizer\u001b[0m\u001b[0;34m,\u001b[0m \u001b[0mnum_epochs\u001b[0m\u001b[0;34m,\u001b[0m \u001b[0mval_loader\u001b[0m\u001b[0;34m)\u001b[0m\u001b[0;34m\u001b[0m\u001b[0;34m\u001b[0m\u001b[0m\n\u001b[0m",
            "\u001b[0;32m<ipython-input-17-c280d0a9bf89>\u001b[0m in \u001b[0;36mtrain\u001b[0;34m(model, train_loader, optimizer, num_epochs, val_loader)\u001b[0m\n\u001b[1;32m      8\u001b[0m             \u001b[0mimgs\u001b[0m\u001b[0;34m,\u001b[0m \u001b[0min_for\u001b[0m\u001b[0;34m,\u001b[0m \u001b[0mout_for\u001b[0m \u001b[0;34m=\u001b[0m \u001b[0mimgs\u001b[0m\u001b[0;34m.\u001b[0m\u001b[0mto\u001b[0m\u001b[0;34m(\u001b[0m\u001b[0mdevice\u001b[0m\u001b[0;34m)\u001b[0m\u001b[0;34m,\u001b[0m \u001b[0min_for\u001b[0m\u001b[0;34m.\u001b[0m\u001b[0mto\u001b[0m\u001b[0;34m(\u001b[0m\u001b[0mdevice\u001b[0m\u001b[0;34m)\u001b[0m\u001b[0;34m,\u001b[0m \u001b[0mout_for\u001b[0m\u001b[0;34m.\u001b[0m\u001b[0mto\u001b[0m\u001b[0;34m(\u001b[0m\u001b[0mdevice\u001b[0m\u001b[0;34m)\u001b[0m\u001b[0;34m\u001b[0m\u001b[0;34m\u001b[0m\u001b[0m\n\u001b[1;32m      9\u001b[0m             \u001b[0moptimizer\u001b[0m\u001b[0;34m.\u001b[0m\u001b[0mzero_grad\u001b[0m\u001b[0;34m(\u001b[0m\u001b[0;34m)\u001b[0m\u001b[0;34m\u001b[0m\u001b[0;34m\u001b[0m\u001b[0m\n\u001b[0;32m---> 10\u001b[0;31m             \u001b[0mlogits\u001b[0m \u001b[0;34m=\u001b[0m \u001b[0mmodel\u001b[0m\u001b[0;34m.\u001b[0m\u001b[0mforward\u001b[0m\u001b[0;34m(\u001b[0m\u001b[0mimgs\u001b[0m\u001b[0;34m,\u001b[0m \u001b[0min_for\u001b[0m\u001b[0;34m)\u001b[0m\u001b[0;34m\u001b[0m\u001b[0;34m\u001b[0m\u001b[0m\n\u001b[0m\u001b[1;32m     11\u001b[0m             \u001b[0mloss\u001b[0m \u001b[0;34m=\u001b[0m \u001b[0mcal_loss\u001b[0m\u001b[0;34m(\u001b[0m\u001b[0mlogits\u001b[0m\u001b[0;34m,\u001b[0m \u001b[0mout_for\u001b[0m\u001b[0;34m)\u001b[0m\u001b[0;34m\u001b[0m\u001b[0;34m\u001b[0m\u001b[0m\n\u001b[1;32m     12\u001b[0m             \u001b[0mloss\u001b[0m\u001b[0;34m.\u001b[0m\u001b[0mbackward\u001b[0m\u001b[0;34m(\u001b[0m\u001b[0mretain_graph\u001b[0m\u001b[0;34m=\u001b[0m\u001b[0;32mTrue\u001b[0m\u001b[0;34m)\u001b[0m\u001b[0;34m\u001b[0m\u001b[0;34m\u001b[0m\u001b[0m\n",
            "\u001b[0;32m<ipython-input-15-0a50df73fc49>\u001b[0m in \u001b[0;36mforward\u001b[0;34m(self, imgs, formulas)\u001b[0m\n\u001b[1;32m      7\u001b[0m \u001b[0;34m\u001b[0m\u001b[0m\n\u001b[1;32m      8\u001b[0m     \u001b[0;32mdef\u001b[0m \u001b[0mforward\u001b[0m\u001b[0;34m(\u001b[0m\u001b[0mself\u001b[0m\u001b[0;34m,\u001b[0m \u001b[0mimgs\u001b[0m\u001b[0;34m,\u001b[0m \u001b[0mformulas\u001b[0m\u001b[0;34m)\u001b[0m\u001b[0;34m:\u001b[0m\u001b[0;34m\u001b[0m\u001b[0;34m\u001b[0m\u001b[0m\n\u001b[0;32m----> 9\u001b[0;31m         \u001b[0mencoded_imgs\u001b[0m \u001b[0;34m=\u001b[0m \u001b[0mself\u001b[0m\u001b[0;34m.\u001b[0m\u001b[0mencoder\u001b[0m\u001b[0;34m(\u001b[0m\u001b[0mimgs\u001b[0m\u001b[0;34m)\u001b[0m\u001b[0;34m\u001b[0m\u001b[0;34m\u001b[0m\u001b[0m\n\u001b[0m\u001b[1;32m     10\u001b[0m         \u001b[0mlogits\u001b[0m \u001b[0;34m=\u001b[0m \u001b[0mself\u001b[0m\u001b[0;34m.\u001b[0m\u001b[0mdecoder\u001b[0m\u001b[0;34m(\u001b[0m\u001b[0mencoded_imgs\u001b[0m\u001b[0;34m,\u001b[0m \u001b[0mformulas\u001b[0m\u001b[0;34m)\u001b[0m\u001b[0;34m\u001b[0m\u001b[0;34m\u001b[0m\u001b[0m\n\u001b[1;32m     11\u001b[0m         \u001b[0;32mreturn\u001b[0m \u001b[0mlogits\u001b[0m\u001b[0;34m\u001b[0m\u001b[0;34m\u001b[0m\u001b[0m\n",
            "\u001b[0;32m/usr/local/lib/python3.10/dist-packages/torch/nn/modules/module.py\u001b[0m in \u001b[0;36m_wrapped_call_impl\u001b[0;34m(self, *args, **kwargs)\u001b[0m\n\u001b[1;32m   1516\u001b[0m             \u001b[0;32mreturn\u001b[0m \u001b[0mself\u001b[0m\u001b[0;34m.\u001b[0m\u001b[0m_compiled_call_impl\u001b[0m\u001b[0;34m(\u001b[0m\u001b[0;34m*\u001b[0m\u001b[0margs\u001b[0m\u001b[0;34m,\u001b[0m \u001b[0;34m**\u001b[0m\u001b[0mkwargs\u001b[0m\u001b[0;34m)\u001b[0m  \u001b[0;31m# type: ignore[misc]\u001b[0m\u001b[0;34m\u001b[0m\u001b[0;34m\u001b[0m\u001b[0m\n\u001b[1;32m   1517\u001b[0m         \u001b[0;32melse\u001b[0m\u001b[0;34m:\u001b[0m\u001b[0;34m\u001b[0m\u001b[0;34m\u001b[0m\u001b[0m\n\u001b[0;32m-> 1518\u001b[0;31m             \u001b[0;32mreturn\u001b[0m \u001b[0mself\u001b[0m\u001b[0;34m.\u001b[0m\u001b[0m_call_impl\u001b[0m\u001b[0;34m(\u001b[0m\u001b[0;34m*\u001b[0m\u001b[0margs\u001b[0m\u001b[0;34m,\u001b[0m \u001b[0;34m**\u001b[0m\u001b[0mkwargs\u001b[0m\u001b[0;34m)\u001b[0m\u001b[0;34m\u001b[0m\u001b[0;34m\u001b[0m\u001b[0m\n\u001b[0m\u001b[1;32m   1519\u001b[0m \u001b[0;34m\u001b[0m\u001b[0m\n\u001b[1;32m   1520\u001b[0m     \u001b[0;32mdef\u001b[0m \u001b[0m_call_impl\u001b[0m\u001b[0;34m(\u001b[0m\u001b[0mself\u001b[0m\u001b[0;34m,\u001b[0m \u001b[0;34m*\u001b[0m\u001b[0margs\u001b[0m\u001b[0;34m,\u001b[0m \u001b[0;34m**\u001b[0m\u001b[0mkwargs\u001b[0m\u001b[0;34m)\u001b[0m\u001b[0;34m:\u001b[0m\u001b[0;34m\u001b[0m\u001b[0;34m\u001b[0m\u001b[0m\n",
            "\u001b[0;32m/usr/local/lib/python3.10/dist-packages/torch/nn/modules/module.py\u001b[0m in \u001b[0;36m_call_impl\u001b[0;34m(self, *args, **kwargs)\u001b[0m\n\u001b[1;32m   1525\u001b[0m                 \u001b[0;32mor\u001b[0m \u001b[0m_global_backward_pre_hooks\u001b[0m \u001b[0;32mor\u001b[0m \u001b[0m_global_backward_hooks\u001b[0m\u001b[0;34m\u001b[0m\u001b[0;34m\u001b[0m\u001b[0m\n\u001b[1;32m   1526\u001b[0m                 or _global_forward_hooks or _global_forward_pre_hooks):\n\u001b[0;32m-> 1527\u001b[0;31m             \u001b[0;32mreturn\u001b[0m \u001b[0mforward_call\u001b[0m\u001b[0;34m(\u001b[0m\u001b[0;34m*\u001b[0m\u001b[0margs\u001b[0m\u001b[0;34m,\u001b[0m \u001b[0;34m**\u001b[0m\u001b[0mkwargs\u001b[0m\u001b[0;34m)\u001b[0m\u001b[0;34m\u001b[0m\u001b[0;34m\u001b[0m\u001b[0m\n\u001b[0m\u001b[1;32m   1528\u001b[0m \u001b[0;34m\u001b[0m\u001b[0m\n\u001b[1;32m   1529\u001b[0m         \u001b[0;32mtry\u001b[0m\u001b[0;34m:\u001b[0m\u001b[0;34m\u001b[0m\u001b[0;34m\u001b[0m\u001b[0m\n",
            "\u001b[0;32m<ipython-input-13-333d0c8df808>\u001b[0m in \u001b[0;36mforward\u001b[0;34m(self, img)\u001b[0m\n\u001b[1;32m     23\u001b[0m \u001b[0;34m\u001b[0m\u001b[0m\n\u001b[1;32m     24\u001b[0m     \u001b[0;32mdef\u001b[0m \u001b[0mforward\u001b[0m\u001b[0;34m(\u001b[0m\u001b[0mself\u001b[0m\u001b[0;34m,\u001b[0m \u001b[0mimg\u001b[0m\u001b[0;34m)\u001b[0m\u001b[0;34m:\u001b[0m\u001b[0;34m\u001b[0m\u001b[0;34m\u001b[0m\u001b[0m\n\u001b[0;32m---> 25\u001b[0;31m         \u001b[0mout\u001b[0m \u001b[0;34m=\u001b[0m \u001b[0mself\u001b[0m\u001b[0;34m.\u001b[0m\u001b[0mencoder\u001b[0m\u001b[0;34m(\u001b[0m\u001b[0mimg\u001b[0m\u001b[0;34m)\u001b[0m\u001b[0;34m\u001b[0m\u001b[0;34m\u001b[0m\u001b[0m\n\u001b[0m\u001b[1;32m     26\u001b[0m         \u001b[0mout\u001b[0m \u001b[0;34m=\u001b[0m \u001b[0mout\u001b[0m\u001b[0;34m.\u001b[0m\u001b[0mpermute\u001b[0m\u001b[0;34m(\u001b[0m\u001b[0;36m0\u001b[0m\u001b[0;34m,\u001b[0m \u001b[0;36m2\u001b[0m\u001b[0;34m,\u001b[0m \u001b[0;36m3\u001b[0m\u001b[0;34m,\u001b[0m \u001b[0;36m1\u001b[0m\u001b[0;34m)\u001b[0m\u001b[0;34m\u001b[0m\u001b[0;34m\u001b[0m\u001b[0m\n\u001b[1;32m     27\u001b[0m         \u001b[0mB\u001b[0m\u001b[0;34m,\u001b[0m \u001b[0mH\u001b[0m\u001b[0;34m,\u001b[0m \u001b[0mW\u001b[0m\u001b[0;34m,\u001b[0m \u001b[0m_\u001b[0m \u001b[0;34m=\u001b[0m \u001b[0mout\u001b[0m\u001b[0;34m.\u001b[0m\u001b[0mshape\u001b[0m\u001b[0;34m\u001b[0m\u001b[0;34m\u001b[0m\u001b[0m\n",
            "\u001b[0;32m/usr/local/lib/python3.10/dist-packages/torch/nn/modules/module.py\u001b[0m in \u001b[0;36m_wrapped_call_impl\u001b[0;34m(self, *args, **kwargs)\u001b[0m\n\u001b[1;32m   1516\u001b[0m             \u001b[0;32mreturn\u001b[0m \u001b[0mself\u001b[0m\u001b[0;34m.\u001b[0m\u001b[0m_compiled_call_impl\u001b[0m\u001b[0;34m(\u001b[0m\u001b[0;34m*\u001b[0m\u001b[0margs\u001b[0m\u001b[0;34m,\u001b[0m \u001b[0;34m**\u001b[0m\u001b[0mkwargs\u001b[0m\u001b[0;34m)\u001b[0m  \u001b[0;31m# type: ignore[misc]\u001b[0m\u001b[0;34m\u001b[0m\u001b[0;34m\u001b[0m\u001b[0m\n\u001b[1;32m   1517\u001b[0m         \u001b[0;32melse\u001b[0m\u001b[0;34m:\u001b[0m\u001b[0;34m\u001b[0m\u001b[0;34m\u001b[0m\u001b[0m\n\u001b[0;32m-> 1518\u001b[0;31m             \u001b[0;32mreturn\u001b[0m \u001b[0mself\u001b[0m\u001b[0;34m.\u001b[0m\u001b[0m_call_impl\u001b[0m\u001b[0;34m(\u001b[0m\u001b[0;34m*\u001b[0m\u001b[0margs\u001b[0m\u001b[0;34m,\u001b[0m \u001b[0;34m**\u001b[0m\u001b[0mkwargs\u001b[0m\u001b[0;34m)\u001b[0m\u001b[0;34m\u001b[0m\u001b[0;34m\u001b[0m\u001b[0m\n\u001b[0m\u001b[1;32m   1519\u001b[0m \u001b[0;34m\u001b[0m\u001b[0m\n\u001b[1;32m   1520\u001b[0m     \u001b[0;32mdef\u001b[0m \u001b[0m_call_impl\u001b[0m\u001b[0;34m(\u001b[0m\u001b[0mself\u001b[0m\u001b[0;34m,\u001b[0m \u001b[0;34m*\u001b[0m\u001b[0margs\u001b[0m\u001b[0;34m,\u001b[0m \u001b[0;34m**\u001b[0m\u001b[0mkwargs\u001b[0m\u001b[0;34m)\u001b[0m\u001b[0;34m:\u001b[0m\u001b[0;34m\u001b[0m\u001b[0;34m\u001b[0m\u001b[0m\n",
            "\u001b[0;32m/usr/local/lib/python3.10/dist-packages/torch/nn/modules/module.py\u001b[0m in \u001b[0;36m_call_impl\u001b[0;34m(self, *args, **kwargs)\u001b[0m\n\u001b[1;32m   1525\u001b[0m                 \u001b[0;32mor\u001b[0m \u001b[0m_global_backward_pre_hooks\u001b[0m \u001b[0;32mor\u001b[0m \u001b[0m_global_backward_hooks\u001b[0m\u001b[0;34m\u001b[0m\u001b[0;34m\u001b[0m\u001b[0m\n\u001b[1;32m   1526\u001b[0m                 or _global_forward_hooks or _global_forward_pre_hooks):\n\u001b[0;32m-> 1527\u001b[0;31m             \u001b[0;32mreturn\u001b[0m \u001b[0mforward_call\u001b[0m\u001b[0;34m(\u001b[0m\u001b[0;34m*\u001b[0m\u001b[0margs\u001b[0m\u001b[0;34m,\u001b[0m \u001b[0;34m**\u001b[0m\u001b[0mkwargs\u001b[0m\u001b[0;34m)\u001b[0m\u001b[0;34m\u001b[0m\u001b[0;34m\u001b[0m\u001b[0m\n\u001b[0m\u001b[1;32m   1528\u001b[0m \u001b[0;34m\u001b[0m\u001b[0m\n\u001b[1;32m   1529\u001b[0m         \u001b[0;32mtry\u001b[0m\u001b[0;34m:\u001b[0m\u001b[0;34m\u001b[0m\u001b[0;34m\u001b[0m\u001b[0m\n",
            "\u001b[0;32m/usr/local/lib/python3.10/dist-packages/torch/nn/modules/container.py\u001b[0m in \u001b[0;36mforward\u001b[0;34m(self, input)\u001b[0m\n\u001b[1;32m    213\u001b[0m     \u001b[0;32mdef\u001b[0m \u001b[0mforward\u001b[0m\u001b[0;34m(\u001b[0m\u001b[0mself\u001b[0m\u001b[0;34m,\u001b[0m \u001b[0minput\u001b[0m\u001b[0;34m)\u001b[0m\u001b[0;34m:\u001b[0m\u001b[0;34m\u001b[0m\u001b[0;34m\u001b[0m\u001b[0m\n\u001b[1;32m    214\u001b[0m         \u001b[0;32mfor\u001b[0m \u001b[0mmodule\u001b[0m \u001b[0;32min\u001b[0m \u001b[0mself\u001b[0m\u001b[0;34m:\u001b[0m\u001b[0;34m\u001b[0m\u001b[0;34m\u001b[0m\u001b[0m\n\u001b[0;32m--> 215\u001b[0;31m             \u001b[0minput\u001b[0m \u001b[0;34m=\u001b[0m \u001b[0mmodule\u001b[0m\u001b[0;34m(\u001b[0m\u001b[0minput\u001b[0m\u001b[0;34m)\u001b[0m\u001b[0;34m\u001b[0m\u001b[0;34m\u001b[0m\u001b[0m\n\u001b[0m\u001b[1;32m    216\u001b[0m         \u001b[0;32mreturn\u001b[0m \u001b[0minput\u001b[0m\u001b[0;34m\u001b[0m\u001b[0;34m\u001b[0m\u001b[0m\n\u001b[1;32m    217\u001b[0m \u001b[0;34m\u001b[0m\u001b[0m\n",
            "\u001b[0;32m/usr/local/lib/python3.10/dist-packages/torch/nn/modules/module.py\u001b[0m in \u001b[0;36m_wrapped_call_impl\u001b[0;34m(self, *args, **kwargs)\u001b[0m\n\u001b[1;32m   1516\u001b[0m             \u001b[0;32mreturn\u001b[0m \u001b[0mself\u001b[0m\u001b[0;34m.\u001b[0m\u001b[0m_compiled_call_impl\u001b[0m\u001b[0;34m(\u001b[0m\u001b[0;34m*\u001b[0m\u001b[0margs\u001b[0m\u001b[0;34m,\u001b[0m \u001b[0;34m**\u001b[0m\u001b[0mkwargs\u001b[0m\u001b[0;34m)\u001b[0m  \u001b[0;31m# type: ignore[misc]\u001b[0m\u001b[0;34m\u001b[0m\u001b[0;34m\u001b[0m\u001b[0m\n\u001b[1;32m   1517\u001b[0m         \u001b[0;32melse\u001b[0m\u001b[0;34m:\u001b[0m\u001b[0;34m\u001b[0m\u001b[0;34m\u001b[0m\u001b[0m\n\u001b[0;32m-> 1518\u001b[0;31m             \u001b[0;32mreturn\u001b[0m \u001b[0mself\u001b[0m\u001b[0;34m.\u001b[0m\u001b[0m_call_impl\u001b[0m\u001b[0;34m(\u001b[0m\u001b[0;34m*\u001b[0m\u001b[0margs\u001b[0m\u001b[0;34m,\u001b[0m \u001b[0;34m**\u001b[0m\u001b[0mkwargs\u001b[0m\u001b[0;34m)\u001b[0m\u001b[0;34m\u001b[0m\u001b[0;34m\u001b[0m\u001b[0m\n\u001b[0m\u001b[1;32m   1519\u001b[0m \u001b[0;34m\u001b[0m\u001b[0m\n\u001b[1;32m   1520\u001b[0m     \u001b[0;32mdef\u001b[0m \u001b[0m_call_impl\u001b[0m\u001b[0;34m(\u001b[0m\u001b[0mself\u001b[0m\u001b[0;34m,\u001b[0m \u001b[0;34m*\u001b[0m\u001b[0margs\u001b[0m\u001b[0;34m,\u001b[0m \u001b[0;34m**\u001b[0m\u001b[0mkwargs\u001b[0m\u001b[0;34m)\u001b[0m\u001b[0;34m:\u001b[0m\u001b[0;34m\u001b[0m\u001b[0;34m\u001b[0m\u001b[0m\n",
            "\u001b[0;32m/usr/local/lib/python3.10/dist-packages/torch/nn/modules/module.py\u001b[0m in \u001b[0;36m_call_impl\u001b[0;34m(self, *args, **kwargs)\u001b[0m\n\u001b[1;32m   1525\u001b[0m                 \u001b[0;32mor\u001b[0m \u001b[0m_global_backward_pre_hooks\u001b[0m \u001b[0;32mor\u001b[0m \u001b[0m_global_backward_hooks\u001b[0m\u001b[0;34m\u001b[0m\u001b[0;34m\u001b[0m\u001b[0m\n\u001b[1;32m   1526\u001b[0m                 or _global_forward_hooks or _global_forward_pre_hooks):\n\u001b[0;32m-> 1527\u001b[0;31m             \u001b[0;32mreturn\u001b[0m \u001b[0mforward_call\u001b[0m\u001b[0;34m(\u001b[0m\u001b[0;34m*\u001b[0m\u001b[0margs\u001b[0m\u001b[0;34m,\u001b[0m \u001b[0;34m**\u001b[0m\u001b[0mkwargs\u001b[0m\u001b[0;34m)\u001b[0m\u001b[0;34m\u001b[0m\u001b[0;34m\u001b[0m\u001b[0m\n\u001b[0m\u001b[1;32m   1528\u001b[0m \u001b[0;34m\u001b[0m\u001b[0m\n\u001b[1;32m   1529\u001b[0m         \u001b[0;32mtry\u001b[0m\u001b[0;34m:\u001b[0m\u001b[0;34m\u001b[0m\u001b[0;34m\u001b[0m\u001b[0m\n",
            "\u001b[0;32m/usr/local/lib/python3.10/dist-packages/torch/nn/modules/conv.py\u001b[0m in \u001b[0;36mforward\u001b[0;34m(self, input)\u001b[0m\n\u001b[1;32m    458\u001b[0m \u001b[0;34m\u001b[0m\u001b[0m\n\u001b[1;32m    459\u001b[0m     \u001b[0;32mdef\u001b[0m \u001b[0mforward\u001b[0m\u001b[0;34m(\u001b[0m\u001b[0mself\u001b[0m\u001b[0;34m,\u001b[0m \u001b[0minput\u001b[0m\u001b[0;34m:\u001b[0m \u001b[0mTensor\u001b[0m\u001b[0;34m)\u001b[0m \u001b[0;34m->\u001b[0m \u001b[0mTensor\u001b[0m\u001b[0;34m:\u001b[0m\u001b[0;34m\u001b[0m\u001b[0;34m\u001b[0m\u001b[0m\n\u001b[0;32m--> 460\u001b[0;31m         \u001b[0;32mreturn\u001b[0m \u001b[0mself\u001b[0m\u001b[0;34m.\u001b[0m\u001b[0m_conv_forward\u001b[0m\u001b[0;34m(\u001b[0m\u001b[0minput\u001b[0m\u001b[0;34m,\u001b[0m \u001b[0mself\u001b[0m\u001b[0;34m.\u001b[0m\u001b[0mweight\u001b[0m\u001b[0;34m,\u001b[0m \u001b[0mself\u001b[0m\u001b[0;34m.\u001b[0m\u001b[0mbias\u001b[0m\u001b[0;34m)\u001b[0m\u001b[0;34m\u001b[0m\u001b[0;34m\u001b[0m\u001b[0m\n\u001b[0m\u001b[1;32m    461\u001b[0m \u001b[0;34m\u001b[0m\u001b[0m\n\u001b[1;32m    462\u001b[0m \u001b[0;32mclass\u001b[0m \u001b[0mConv3d\u001b[0m\u001b[0;34m(\u001b[0m\u001b[0m_ConvNd\u001b[0m\u001b[0;34m)\u001b[0m\u001b[0;34m:\u001b[0m\u001b[0;34m\u001b[0m\u001b[0;34m\u001b[0m\u001b[0m\n",
            "\u001b[0;32m/usr/local/lib/python3.10/dist-packages/torch/nn/modules/conv.py\u001b[0m in \u001b[0;36m_conv_forward\u001b[0;34m(self, input, weight, bias)\u001b[0m\n\u001b[1;32m    454\u001b[0m                             \u001b[0mweight\u001b[0m\u001b[0;34m,\u001b[0m \u001b[0mbias\u001b[0m\u001b[0;34m,\u001b[0m \u001b[0mself\u001b[0m\u001b[0;34m.\u001b[0m\u001b[0mstride\u001b[0m\u001b[0;34m,\u001b[0m\u001b[0;34m\u001b[0m\u001b[0;34m\u001b[0m\u001b[0m\n\u001b[1;32m    455\u001b[0m                             _pair(0), self.dilation, self.groups)\n\u001b[0;32m--> 456\u001b[0;31m         return F.conv2d(input, weight, bias, self.stride,\n\u001b[0m\u001b[1;32m    457\u001b[0m                         self.padding, self.dilation, self.groups)\n\u001b[1;32m    458\u001b[0m \u001b[0;34m\u001b[0m\u001b[0m\n",
            "\u001b[0;31mOutOfMemoryError\u001b[0m: CUDA out of memory. Tried to allocate 128.00 MiB. GPU 0 has a total capacty of 14.75 GiB of which 33.06 MiB is free. Process 8985 has 14.71 GiB memory in use. Of the allocated memory 14.44 GiB is allocated by PyTorch, and 124.24 MiB is reserved by PyTorch but unallocated. If reserved but unallocated memory is large try setting max_split_size_mb to avoid fragmentation.  See documentation for Memory Management and PYTORCH_CUDA_ALLOC_CONF"
          ]
        }
      ],
      "source": [
        "train(model, train_loader, optimizer, num_epochs, val_loader)"
      ]
    },
    {
      "cell_type": "code",
      "execution_count": null,
      "id": "d5acbe50",
      "metadata": {
        "id": "d5acbe50"
      },
      "outputs": [],
      "source": [
        "torch.save(model.state_dict(), os.path.join(data_dir, '10000_model_weights110.pth'))"
      ]
    },
    {
      "cell_type": "code",
      "source": [
        "weights_path = os.path.join(data_dir, '10000_model_weights19.pth')\n",
        "model.load_state_dict(torch.load(weights_path, map_location=device))"
      ],
      "metadata": {
        "id": "OjvTC0hMKKpM",
        "colab": {
          "base_uri": "https://localhost:8080/"
        },
        "outputId": "ebe7f8db-a1e9-49ad-ce65-2b9cb15f0abf"
      },
      "id": "OjvTC0hMKKpM",
      "execution_count": null,
      "outputs": [
        {
          "output_type": "execute_result",
          "data": {
            "text/plain": [
              "<All keys matched successfully>"
            ]
          },
          "metadata": {},
          "execution_count": 25
        }
      ]
    },
    {
      "cell_type": "markdown",
      "source": [
        "## Testing"
      ],
      "metadata": {
        "id": "xEW9tGNbENTx"
      },
      "id": "xEW9tGNbENTx"
    },
    {
      "cell_type": "code",
      "source": [
        "test_dir = os.path.join(data_dir, \"m_test.csv\")"
      ],
      "metadata": {
        "id": "O1H5qlG2AZwN"
      },
      "id": "O1H5qlG2AZwN",
      "execution_count": null,
      "outputs": []
    },
    {
      "cell_type": "code",
      "source": [
        "test_data = Im2TexDataset(img_dir, test_dir, vocab)"
      ],
      "metadata": {
        "id": "H6bN3w4fEXes"
      },
      "id": "H6bN3w4fEXes",
      "execution_count": null,
      "outputs": []
    },
    {
      "cell_type": "code",
      "source": [
        "test_loader = DataLoader(test_data,\n",
        "                         batch_size=32,\n",
        "                         collate_fn=collate_fn)"
      ],
      "metadata": {
        "id": "R2cECvmbEXmh"
      },
      "id": "R2cECvmbEXmh",
      "execution_count": null,
      "outputs": []
    },
    {
      "cell_type": "code",
      "source": [
        "def evaluate(batch, search):\n",
        "    t_img, t_in, t_out = batch\n",
        "    t_img, t_in = t_img.to(device), t_in.to(device)\n",
        "    t_logits = model.forward(t_img, t_in)\n",
        "    predicted_words = []\n",
        "    targets = []\n",
        "\n",
        "    for t in range(len(t_logits)):\n",
        "        predicted_words.append(search(t_logits[t]))\n",
        "        targets.append(vocab.sign_to_formula(t_out[t]))\n",
        "\n",
        "    return predicted_words, targets"
      ],
      "metadata": {
        "id": "Yn7EkW_WP8Dq"
      },
      "id": "Yn7EkW_WP8Dq",
      "execution_count": null,
      "outputs": []
    },
    {
      "cell_type": "code",
      "source": [
        "def greedySearch(logit):\n",
        "    words = []\n",
        "    for token in logit:\n",
        "        pred = torch.argmax(token)\n",
        "        word = vocab.itos[pred.item()]\n",
        "        words.append(word)\n",
        "    return words"
      ],
      "metadata": {
        "id": "c-QPNJ2hQaNx"
      },
      "id": "c-QPNJ2hQaNx",
      "execution_count": null,
      "outputs": []
    },
    {
      "cell_type": "code",
      "source": [
        "def toSentence(list_of_text):\n",
        "    sentence = \"\"\n",
        "    for t in range(len(list_of_text)):\n",
        "        if list_of_text[t] == \"<eos>\":\n",
        "            break\n",
        "        sentence += list_of_text[t] + \" \"\n",
        "    return sentence"
      ],
      "metadata": {
        "id": "wgFAcw4ZQuqF"
      },
      "id": "wgFAcw4ZQuqF",
      "execution_count": null,
      "outputs": []
    },
    {
      "cell_type": "code",
      "source": [
        "batch = next(iter(test_loader))"
      ],
      "metadata": {
        "id": "WI4ixRCOQfKW"
      },
      "id": "WI4ixRCOQfKW",
      "execution_count": null,
      "outputs": []
    },
    {
      "cell_type": "code",
      "source": [
        "predicted_words, targets = evaluate(batch, greedySearch)"
      ],
      "metadata": {
        "id": "KpSk3_NcQh28"
      },
      "id": "KpSk3_NcQh28",
      "execution_count": null,
      "outputs": []
    },
    {
      "cell_type": "code",
      "source": [
        "idx = 3\n",
        "print(f\"Target sentence:\")\n",
        "print(f\"{toSentence(targets[idx])}\")\n",
        "\n",
        "print(\"-------------------------------------------------------------------------------------------------\")\n",
        "\n",
        "print(f\"Predicted sentence:\")\n",
        "print(f\"{toSentence(predicted_words[idx])}\")"
      ],
      "metadata": {
        "colab": {
          "base_uri": "https://localhost:8080/"
        },
        "id": "Bc0cxvf-Qod4",
        "outputId": "a8158258-9a67-4f21-abf7-baff7ecef178"
      },
      "id": "Bc0cxvf-Qod4",
      "execution_count": null,
      "outputs": [
        {
          "output_type": "stream",
          "name": "stdout",
          "text": [
            "Target sentence:\n",
            "\\dot { z } _ { 1 } = - N ^ { z } ( z _ { 1 } ) = - g ( z _ { 1 } ) = - \\frac { z _ { 1 } } { P _ { z } ( z _ { 2 } - z _ { 1 } ) } ; ~ ~ ~ \\dot { z } _ { 2 } = - \\frac { z _ { 2 } } { P _ { z } ( z _ { 2 } - z _ { 1 } ) } \n",
            "-------------------------------------------------------------------------------------------------\n",
            "Predicted sentence:\n",
            "\\hat { z } _ { 1 } = - N ^ { 1 } ( x ) { 1 } ) = - g ( x ) { 1 } ) = - g { z _ { i } ^ { E _ { i } ^ x _ { 1 } - z _ { 1 } ) } } \\quad ~ ~ ~ { z } _ { i } = - \\frac { z _ { i } } { E _ { i } ( x _ { 2 } ) x ) { 1 } ) } } ^ \n"
          ]
        }
      ]
    }
  ],
  "metadata": {
    "kernelspec": {
      "display_name": "Python 3",
      "name": "python3"
    },
    "language_info": {
      "codemirror_mode": {
        "name": "ipython",
        "version": 3
      },
      "file_extension": ".py",
      "mimetype": "text/x-python",
      "name": "python",
      "nbconvert_exporter": "python",
      "pygments_lexer": "ipython3",
      "version": "3.9.13"
    },
    "colab": {
      "provenance": [],
      "machine_shape": "hm",
      "gpuType": "T4"
    },
    "accelerator": "GPU"
  },
  "nbformat": 4,
  "nbformat_minor": 5
}